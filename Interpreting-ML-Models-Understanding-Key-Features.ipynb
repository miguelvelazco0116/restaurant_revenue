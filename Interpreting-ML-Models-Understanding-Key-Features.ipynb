{
 "cells": [
  {
   "cell_type": "markdown",
   "id": "ce8a2c0c",
   "metadata": {},
   "source": [
    "## Interpreting ML Models: Understanding Key Features"
   ]
  },
  {
   "cell_type": "markdown",
   "id": "5a8cc832",
   "metadata": {},
   "source": [
    "<img src=\"understanding-features.webp\" alt=\"understanding-features\" width=\"350\">"
   ]
  },
  {
   "cell_type": "code",
   "execution_count": 1,
   "id": "2d9549cf",
   "metadata": {},
   "outputs": [],
   "source": [
    "# hide warnings\n",
    "import warnings\n",
    "warnings.filterwarnings('ignore')\n",
    "\n",
    "# packages\n",
    "import pandas as pd\n",
    "import numpy as np\n",
    "import os, yaml, requests, random\n",
    "np.random.seed(42)\n",
    "import joblib\n",
    "import psycopg2\n",
    "import json\n",
    "from sqlalchemy import create_engine\n",
    "\n",
    "# pretty figures\n",
    "%matplotlib inline\n",
    "import matplotlib as mpl\n",
    "import matplotlib.pyplot as plt\n",
    "import plotly.graph_objects as go\n",
    "mpl.rc('axes', labelsize=14)\n",
    "mpl.rc('xtick', labelsize=12)\n",
    "mpl.rc('ytick', labelsize=12)\n",
    "\n",
    "# shap\n",
    "import shap\n",
    "\n",
    "# dice\n",
    "import dice_ml\n",
    "from dice_ml.utils import helpers"
   ]
  },
  {
   "cell_type": "markdown",
   "id": "9e51540e",
   "metadata": {},
   "source": [
    "Understanding how a machine learning algorithm makes predictions is important for several reasons:\n",
    "\n",
    "1. **Transparency and Trust:** Knowing the decision-making process helps build trust in the model. When we understand how the algorithm arrives at its conclusions, we can have more confidence in its predictions.\n",
    "\n",
    "2. **Improving Models:** By understanding the factors that influence the model's decisions, we can make informed adjustments to improve its performance. This could involve tweaking the algorithm, adjusting the data, or refining the features used.\n",
    "\n",
    "3. **Identifying Bias:** Insight into the prediction process allows us to detect and address any biases in the model. This ensures that the algorithm makes fair and unbiased decisions.\n",
    "\n",
    "4. **Compliance:** In many industries, there are regulations that require explanations for automated decisions. Understanding how predictions are made helps meet these legal and ethical standards.\n",
    "\n",
    "5. **Debugging and Maintenance:** When the model's predictions are clear, it’s easier to identify and fix errors or unexpected behavior, ensuring the model continues to perform well over time.\n",
    "\n",
    "For our current process we'll use **SHAP**, the SHAP (SHapley Additive exPlanations) algorithm is a tool used to explain the predictions made by machine learning models. Here’s an easy explanation:\n",
    "\n",
    "1. **Breaks Down Predictions:** SHAP explains the prediction of a model by breaking it down into contributions from each feature (input variable). It tells us how much each feature contributed to the final prediction.\n",
    "\n",
    "2. **Fair Distribution:** It’s based on the concept of Shapley values from **cooperative game theory,** which fairly distributes the “payout” (prediction) among all features, considering all possible combinations of features. This ensures a balanced and fair explanation.\n",
    "\n",
    "3. **Consistent:** SHAP provides consistent and reliable explanations, meaning similar contributions from features will always result in similar Shapley values, making it easier to interpret the results.\n",
    "\n",
    "4. **Visual and Intuitive:** SHAP values can be visualized in plots, making it intuitive to see which features are driving the predictions and how they are doing so. This helps in understanding the model’s behavior and making it more transparent.\n",
    "\n",
    "In summary, SHAP helps us understand how each feature affects a model’s predictions, ensuring the explanations are fair, consistent, and easy to interpret."
   ]
  },
  {
   "cell_type": "markdown",
   "id": "e9aea057",
   "metadata": {},
   "source": [
    "### `base model - explainer`"
   ]
  },
  {
   "cell_type": "markdown",
   "id": "69c57d44",
   "metadata": {},
   "source": [
    "*load Decision Tree Classifier*"
   ]
  },
  {
   "cell_type": "code",
   "execution_count": 2,
   "id": "9ad7242a",
   "metadata": {},
   "outputs": [
    {
     "name": "stdout",
     "output_type": "stream",
     "text": [
      "Model loaded\n"
     ]
    }
   ],
   "source": [
    "joblib_file = \"models/DT-baseline.pkl\"\n",
    "model = joblib.load(joblib_file)\n",
    "print(\"Model loaded\")"
   ]
  },
  {
   "cell_type": "code",
   "execution_count": 3,
   "id": "9703e9f0",
   "metadata": {
    "scrolled": true
   },
   "outputs": [
    {
     "data": {
      "text/html": [
       "<style>#sk-container-id-1 {color: black;background-color: white;}#sk-container-id-1 pre{padding: 0;}#sk-container-id-1 div.sk-toggleable {background-color: white;}#sk-container-id-1 label.sk-toggleable__label {cursor: pointer;display: block;width: 100%;margin-bottom: 0;padding: 0.3em;box-sizing: border-box;text-align: center;}#sk-container-id-1 label.sk-toggleable__label-arrow:before {content: \"▸\";float: left;margin-right: 0.25em;color: #696969;}#sk-container-id-1 label.sk-toggleable__label-arrow:hover:before {color: black;}#sk-container-id-1 div.sk-estimator:hover label.sk-toggleable__label-arrow:before {color: black;}#sk-container-id-1 div.sk-toggleable__content {max-height: 0;max-width: 0;overflow: hidden;text-align: left;background-color: #f0f8ff;}#sk-container-id-1 div.sk-toggleable__content pre {margin: 0.2em;color: black;border-radius: 0.25em;background-color: #f0f8ff;}#sk-container-id-1 input.sk-toggleable__control:checked~div.sk-toggleable__content {max-height: 200px;max-width: 100%;overflow: auto;}#sk-container-id-1 input.sk-toggleable__control:checked~label.sk-toggleable__label-arrow:before {content: \"▾\";}#sk-container-id-1 div.sk-estimator input.sk-toggleable__control:checked~label.sk-toggleable__label {background-color: #d4ebff;}#sk-container-id-1 div.sk-label input.sk-toggleable__control:checked~label.sk-toggleable__label {background-color: #d4ebff;}#sk-container-id-1 input.sk-hidden--visually {border: 0;clip: rect(1px 1px 1px 1px);clip: rect(1px, 1px, 1px, 1px);height: 1px;margin: -1px;overflow: hidden;padding: 0;position: absolute;width: 1px;}#sk-container-id-1 div.sk-estimator {font-family: monospace;background-color: #f0f8ff;border: 1px dotted black;border-radius: 0.25em;box-sizing: border-box;margin-bottom: 0.5em;}#sk-container-id-1 div.sk-estimator:hover {background-color: #d4ebff;}#sk-container-id-1 div.sk-parallel-item::after {content: \"\";width: 100%;border-bottom: 1px solid gray;flex-grow: 1;}#sk-container-id-1 div.sk-label:hover label.sk-toggleable__label {background-color: #d4ebff;}#sk-container-id-1 div.sk-serial::before {content: \"\";position: absolute;border-left: 1px solid gray;box-sizing: border-box;top: 0;bottom: 0;left: 50%;z-index: 0;}#sk-container-id-1 div.sk-serial {display: flex;flex-direction: column;align-items: center;background-color: white;padding-right: 0.2em;padding-left: 0.2em;position: relative;}#sk-container-id-1 div.sk-item {position: relative;z-index: 1;}#sk-container-id-1 div.sk-parallel {display: flex;align-items: stretch;justify-content: center;background-color: white;position: relative;}#sk-container-id-1 div.sk-item::before, #sk-container-id-1 div.sk-parallel-item::before {content: \"\";position: absolute;border-left: 1px solid gray;box-sizing: border-box;top: 0;bottom: 0;left: 50%;z-index: -1;}#sk-container-id-1 div.sk-parallel-item {display: flex;flex-direction: column;z-index: 1;position: relative;background-color: white;}#sk-container-id-1 div.sk-parallel-item:first-child::after {align-self: flex-end;width: 50%;}#sk-container-id-1 div.sk-parallel-item:last-child::after {align-self: flex-start;width: 50%;}#sk-container-id-1 div.sk-parallel-item:only-child::after {width: 0;}#sk-container-id-1 div.sk-dashed-wrapped {border: 1px dashed gray;margin: 0 0.4em 0.5em 0.4em;box-sizing: border-box;padding-bottom: 0.4em;background-color: white;}#sk-container-id-1 div.sk-label label {font-family: monospace;font-weight: bold;display: inline-block;line-height: 1.2em;}#sk-container-id-1 div.sk-label-container {text-align: center;}#sk-container-id-1 div.sk-container {/* jupyter's `normalize.less` sets `[hidden] { display: none; }` but bootstrap.min.css set `[hidden] { display: none !important; }` so we also need the `!important` here to be able to override the default hidden behavior on the sphinx rendered scikit-learn.org. See: https://github.com/scikit-learn/scikit-learn/issues/21755 */display: inline-block !important;position: relative;}#sk-container-id-1 div.sk-text-repr-fallback {display: none;}</style><div id=\"sk-container-id-1\" class=\"sk-top-container\"><div class=\"sk-text-repr-fallback\"><pre>DecisionTreeClassifier(criterion=&#x27;entropy&#x27;, max_depth=5, min_samples_split=3,\n",
       "                       random_state=42)</pre><b>In a Jupyter environment, please rerun this cell to show the HTML representation or trust the notebook. <br />On GitHub, the HTML representation is unable to render, please try loading this page with nbviewer.org.</b></div><div class=\"sk-container\" hidden><div class=\"sk-item\"><div class=\"sk-estimator sk-toggleable\"><input class=\"sk-toggleable__control sk-hidden--visually\" id=\"sk-estimator-id-1\" type=\"checkbox\" checked><label for=\"sk-estimator-id-1\" class=\"sk-toggleable__label sk-toggleable__label-arrow\">DecisionTreeClassifier</label><div class=\"sk-toggleable__content\"><pre>DecisionTreeClassifier(criterion=&#x27;entropy&#x27;, max_depth=5, min_samples_split=3,\n",
       "                       random_state=42)</pre></div></div></div></div></div>"
      ],
      "text/plain": [
       "DecisionTreeClassifier(criterion='entropy', max_depth=5, min_samples_split=3,\n",
       "                       random_state=42)"
      ]
     },
     "execution_count": 3,
     "metadata": {},
     "output_type": "execute_result"
    }
   ],
   "source": [
    "model"
   ]
  },
  {
   "cell_type": "markdown",
   "id": "26cf10e9",
   "metadata": {},
   "source": [
    "*load train/test*"
   ]
  },
  {
   "cell_type": "code",
   "execution_count": 4,
   "id": "f60358a6",
   "metadata": {},
   "outputs": [],
   "source": [
    "### train\n",
    "X_train=pd.read_excel('models/X-train.xlsx')\n",
    "y_train=pd.read_excel('models/y-train.xlsx')\n",
    "\n",
    "### test\n",
    "X_test=pd.read_excel('models/X-test.xlsx')\n",
    "y_test=pd.read_excel('models/y-test.xlsx')"
   ]
  },
  {
   "cell_type": "code",
   "execution_count": 5,
   "id": "2710a411",
   "metadata": {},
   "outputs": [
    {
     "data": {
      "text/html": [
       "<div>\n",
       "<style scoped>\n",
       "    .dataframe tbody tr th:only-of-type {\n",
       "        vertical-align: middle;\n",
       "    }\n",
       "\n",
       "    .dataframe tbody tr th {\n",
       "        vertical-align: top;\n",
       "    }\n",
       "\n",
       "    .dataframe thead th {\n",
       "        text-align: right;\n",
       "    }\n",
       "</style>\n",
       "<table border=\"1\" class=\"dataframe\">\n",
       "  <thead>\n",
       "    <tr style=\"text-align: right;\">\n",
       "      <th></th>\n",
       "      <th>Number_of_Customers</th>\n",
       "      <th>Menu_Price</th>\n",
       "      <th>Marketing_Spend</th>\n",
       "      <th>Average_Customer_Spending</th>\n",
       "      <th>Promotions</th>\n",
       "      <th>Reviews</th>\n",
       "      <th>cuisine-encode</th>\n",
       "      <th>marketing_spend_per_customer</th>\n",
       "      <th>revenue_per_customer</th>\n",
       "      <th>reviews_to_revenue_ratio</th>\n",
       "      <th>marketing_efficiency</th>\n",
       "      <th>relative_menu_price</th>\n",
       "      <th>client-type-encode</th>\n",
       "    </tr>\n",
       "  </thead>\n",
       "  <tbody>\n",
       "    <tr>\n",
       "      <th>0</th>\n",
       "      <td>51</td>\n",
       "      <td>45.145165</td>\n",
       "      <td>1.292334</td>\n",
       "      <td>15.143859</td>\n",
       "      <td>0</td>\n",
       "      <td>96</td>\n",
       "      <td>1</td>\n",
       "      <td>0.02534</td>\n",
       "      <td>5.0152</td>\n",
       "      <td>2.664325</td>\n",
       "      <td>197.917311</td>\n",
       "      <td>0.335448</td>\n",
       "      <td>2</td>\n",
       "    </tr>\n",
       "  </tbody>\n",
       "</table>\n",
       "</div>"
      ],
      "text/plain": [
       "   Number_of_Customers  Menu_Price  Marketing_Spend  \\\n",
       "0                   51   45.145165         1.292334   \n",
       "\n",
       "   Average_Customer_Spending  Promotions  Reviews  cuisine-encode  \\\n",
       "0                  15.143859           0       96               1   \n",
       "\n",
       "   marketing_spend_per_customer  revenue_per_customer  \\\n",
       "0                       0.02534                5.0152   \n",
       "\n",
       "   reviews_to_revenue_ratio  marketing_efficiency  relative_menu_price  \\\n",
       "0                  2.664325            197.917311             0.335448   \n",
       "\n",
       "   client-type-encode  \n",
       "0                   2  "
      ]
     },
     "execution_count": 5,
     "metadata": {},
     "output_type": "execute_result"
    }
   ],
   "source": [
    "X_train.head(1)"
   ]
  },
  {
   "cell_type": "code",
   "execution_count": 6,
   "id": "b3a66258",
   "metadata": {},
   "outputs": [
    {
     "data": {
      "text/html": [
       "<div>\n",
       "<style scoped>\n",
       "    .dataframe tbody tr th:only-of-type {\n",
       "        vertical-align: middle;\n",
       "    }\n",
       "\n",
       "    .dataframe tbody tr th {\n",
       "        vertical-align: top;\n",
       "    }\n",
       "\n",
       "    .dataframe thead th {\n",
       "        text-align: right;\n",
       "    }\n",
       "</style>\n",
       "<table border=\"1\" class=\"dataframe\">\n",
       "  <thead>\n",
       "    <tr style=\"text-align: right;\">\n",
       "      <th></th>\n",
       "      <th>Number_of_Customers</th>\n",
       "      <th>Menu_Price</th>\n",
       "      <th>Marketing_Spend</th>\n",
       "      <th>Average_Customer_Spending</th>\n",
       "      <th>Promotions</th>\n",
       "      <th>Reviews</th>\n",
       "      <th>cuisine-encode</th>\n",
       "      <th>marketing_spend_per_customer</th>\n",
       "      <th>revenue_per_customer</th>\n",
       "      <th>reviews_to_revenue_ratio</th>\n",
       "      <th>marketing_efficiency</th>\n",
       "      <th>relative_menu_price</th>\n",
       "      <th>client-type-encode</th>\n",
       "    </tr>\n",
       "  </thead>\n",
       "  <tbody>\n",
       "    <tr>\n",
       "      <th>0</th>\n",
       "      <td>45</td>\n",
       "      <td>46.473441</td>\n",
       "      <td>4.404506</td>\n",
       "      <td>32.219891</td>\n",
       "      <td>0</td>\n",
       "      <td>19</td>\n",
       "      <td>2</td>\n",
       "      <td>0.097878</td>\n",
       "      <td>6.579109</td>\n",
       "      <td>15.5821</td>\n",
       "      <td>67.217503</td>\n",
       "      <td>0.693297</td>\n",
       "      <td>2</td>\n",
       "    </tr>\n",
       "  </tbody>\n",
       "</table>\n",
       "</div>"
      ],
      "text/plain": [
       "   Number_of_Customers  Menu_Price  Marketing_Spend  \\\n",
       "0                   45   46.473441         4.404506   \n",
       "\n",
       "   Average_Customer_Spending  Promotions  Reviews  cuisine-encode  \\\n",
       "0                  32.219891           0       19               2   \n",
       "\n",
       "   marketing_spend_per_customer  revenue_per_customer  \\\n",
       "0                      0.097878              6.579109   \n",
       "\n",
       "   reviews_to_revenue_ratio  marketing_efficiency  relative_menu_price  \\\n",
       "0                   15.5821             67.217503             0.693297   \n",
       "\n",
       "   client-type-encode  \n",
       "0                   2  "
      ]
     },
     "execution_count": 6,
     "metadata": {},
     "output_type": "execute_result"
    }
   ],
   "source": [
    "X_test.head(1)"
   ]
  },
  {
   "cell_type": "markdown",
   "id": "9a933322",
   "metadata": {},
   "source": [
    "*SHAP*"
   ]
  },
  {
   "cell_type": "code",
   "execution_count": 7,
   "id": "fa4af10e",
   "metadata": {},
   "outputs": [],
   "source": [
    "explainer = shap.TreeExplainer(model)\n",
    "explanation = explainer(X_test)\n",
    "shap_values = explanation.values"
   ]
  },
  {
   "cell_type": "code",
   "execution_count": 8,
   "id": "d574e27f",
   "metadata": {},
   "outputs": [],
   "source": [
    "shap_values_transposed = shap_values.T"
   ]
  },
  {
   "cell_type": "code",
   "execution_count": 9,
   "id": "27c546b1",
   "metadata": {},
   "outputs": [
    {
     "data": {
      "image/png": "[encoded data removed]",
      "text/plain": [
       "<Figure size 576x482.4 with 1 Axes>"
      ]
     },
     "metadata": {
      "needs_background": "light"
     },
     "output_type": "display_data"
    },
    {
     "data": {
      "image/png": "[encoded data removed]",
      "text/plain": [
       "<Figure size 576x482.4 with 1 Axes>"
      ]
     },
     "metadata": {
      "needs_background": "light"
     },
     "output_type": "display_data"
    },
    {
     "data": {
      "image/png": "[encoded data removed]",
      "text/plain": [
       "<Figure size 576x482.4 with 1 Axes>"
      ]
     },
     "metadata": {
      "needs_background": "light"
     },
     "output_type": "display_data"
    }
   ],
   "source": [
    "revenue_dict={0:'high revenue', \n",
    "              1:'low revenue',\n",
    "              2:'medium revenue'}\n",
    "\n",
    "for class_index in range(shap_values_transposed.shape[0]):\n",
    "    \n",
    "    shap.summary_plot(shap_values_transposed[class_index].T, \n",
    "                      feature_names=X_test.columns, \n",
    "                      plot_type=\"bar\", \n",
    "                      show=False)    \n",
    "    plt.title(f'SHAP Summary Plot for Class {revenue_dict[class_index]}')\n",
    "    plt.show()"
   ]
  },
  {
   "cell_type": "markdown",
   "id": "76539b14",
   "metadata": {},
   "source": [
    "As we can see across all cases, the most critical factor for predicting any class is the number of customers. Following this, revenue per customer is particularly important for high and medium revenue sites. In contrast, for low revenue sites, customer reviews play a significant role. However, a consistent factor across all classes, alongside the number of customers, is marketing spend. \n",
    "\n",
    "This highlights the significant impact of marketing efforts on site revenue, regardless of the revenue class. By focusing on these key factors—number of customers, revenue per customer, customer reviews, and marketing spend—we can develop more targeted and effective strategies to enhance revenue across different segments. Understanding these drivers enables us to prioritize actions that will yield the highest returns and ensure sustainable growth."
   ]
  },
  {
   "cell_type": "markdown",
   "id": "40779cfe",
   "metadata": {},
   "source": [
    "### `best model - explainer`"
   ]
  },
  {
   "cell_type": "markdown",
   "id": "b653cdb9",
   "metadata": {},
   "source": [
    "We have already identified the most important features for our baseline model. Now, we turn our attention to the best-performing model in our case, which is the AdaBoost algorithm. While we observed some improvement in specific classes with the Random Forest model, overall performance, including the confusion matrix, indicates that AdaBoost is superior.\n",
    "\n",
    "To gain a deeper understanding of AdaBoost's predictions, we need to delve into an explainer algorithm. This will help us identify the most critical variables influencing the prediction of each class. By doing so, we can further refine our model and enhance its accuracy, ensuring we leverage the most impactful features for optimal predictive performance."
   ]
  },
  {
   "cell_type": "markdown",
   "id": "0a006e4f",
   "metadata": {},
   "source": [
    "*load AdaBoost Classifier*"
   ]
  },
  {
   "cell_type": "code",
   "execution_count": 10,
   "id": "c7027869",
   "metadata": {},
   "outputs": [
    {
     "name": "stdout",
     "output_type": "stream",
     "text": [
      "Model loaded\n"
     ]
    }
   ],
   "source": [
    "joblib_file = \"models/ABC.pkl\"\n",
    "model = joblib.load(joblib_file)\n",
    "print(\"Model loaded\")"
   ]
  },
  {
   "cell_type": "code",
   "execution_count": 11,
   "id": "0d195c73",
   "metadata": {
    "scrolled": true
   },
   "outputs": [
    {
     "data": {
      "text/html": [
       "<style>#sk-container-id-2 {color: black;background-color: white;}#sk-container-id-2 pre{padding: 0;}#sk-container-id-2 div.sk-toggleable {background-color: white;}#sk-container-id-2 label.sk-toggleable__label {cursor: pointer;display: block;width: 100%;margin-bottom: 0;padding: 0.3em;box-sizing: border-box;text-align: center;}#sk-container-id-2 label.sk-toggleable__label-arrow:before {content: \"▸\";float: left;margin-right: 0.25em;color: #696969;}#sk-container-id-2 label.sk-toggleable__label-arrow:hover:before {color: black;}#sk-container-id-2 div.sk-estimator:hover label.sk-toggleable__label-arrow:before {color: black;}#sk-container-id-2 div.sk-toggleable__content {max-height: 0;max-width: 0;overflow: hidden;text-align: left;background-color: #f0f8ff;}#sk-container-id-2 div.sk-toggleable__content pre {margin: 0.2em;color: black;border-radius: 0.25em;background-color: #f0f8ff;}#sk-container-id-2 input.sk-toggleable__control:checked~div.sk-toggleable__content {max-height: 200px;max-width: 100%;overflow: auto;}#sk-container-id-2 input.sk-toggleable__control:checked~label.sk-toggleable__label-arrow:before {content: \"▾\";}#sk-container-id-2 div.sk-estimator input.sk-toggleable__control:checked~label.sk-toggleable__label {background-color: #d4ebff;}#sk-container-id-2 div.sk-label input.sk-toggleable__control:checked~label.sk-toggleable__label {background-color: #d4ebff;}#sk-container-id-2 input.sk-hidden--visually {border: 0;clip: rect(1px 1px 1px 1px);clip: rect(1px, 1px, 1px, 1px);height: 1px;margin: -1px;overflow: hidden;padding: 0;position: absolute;width: 1px;}#sk-container-id-2 div.sk-estimator {font-family: monospace;background-color: #f0f8ff;border: 1px dotted black;border-radius: 0.25em;box-sizing: border-box;margin-bottom: 0.5em;}#sk-container-id-2 div.sk-estimator:hover {background-color: #d4ebff;}#sk-container-id-2 div.sk-parallel-item::after {content: \"\";width: 100%;border-bottom: 1px solid gray;flex-grow: 1;}#sk-container-id-2 div.sk-label:hover label.sk-toggleable__label {background-color: #d4ebff;}#sk-container-id-2 div.sk-serial::before {content: \"\";position: absolute;border-left: 1px solid gray;box-sizing: border-box;top: 0;bottom: 0;left: 50%;z-index: 0;}#sk-container-id-2 div.sk-serial {display: flex;flex-direction: column;align-items: center;background-color: white;padding-right: 0.2em;padding-left: 0.2em;position: relative;}#sk-container-id-2 div.sk-item {position: relative;z-index: 1;}#sk-container-id-2 div.sk-parallel {display: flex;align-items: stretch;justify-content: center;background-color: white;position: relative;}#sk-container-id-2 div.sk-item::before, #sk-container-id-2 div.sk-parallel-item::before {content: \"\";position: absolute;border-left: 1px solid gray;box-sizing: border-box;top: 0;bottom: 0;left: 50%;z-index: -1;}#sk-container-id-2 div.sk-parallel-item {display: flex;flex-direction: column;z-index: 1;position: relative;background-color: white;}#sk-container-id-2 div.sk-parallel-item:first-child::after {align-self: flex-end;width: 50%;}#sk-container-id-2 div.sk-parallel-item:last-child::after {align-self: flex-start;width: 50%;}#sk-container-id-2 div.sk-parallel-item:only-child::after {width: 0;}#sk-container-id-2 div.sk-dashed-wrapped {border: 1px dashed gray;margin: 0 0.4em 0.5em 0.4em;box-sizing: border-box;padding-bottom: 0.4em;background-color: white;}#sk-container-id-2 div.sk-label label {font-family: monospace;font-weight: bold;display: inline-block;line-height: 1.2em;}#sk-container-id-2 div.sk-label-container {text-align: center;}#sk-container-id-2 div.sk-container {/* jupyter's `normalize.less` sets `[hidden] { display: none; }` but bootstrap.min.css set `[hidden] { display: none !important; }` so we also need the `!important` here to be able to override the default hidden behavior on the sphinx rendered scikit-learn.org. See: https://github.com/scikit-learn/scikit-learn/issues/21755 */display: inline-block !important;position: relative;}#sk-container-id-2 div.sk-text-repr-fallback {display: none;}</style><div id=\"sk-container-id-2\" class=\"sk-top-container\"><div class=\"sk-text-repr-fallback\"><pre>AdaBoostClassifier(estimator=DecisionTreeClassifier(max_depth=20,\n",
       "                                                    random_state=42),\n",
       "                   learning_rate=0.1, n_estimators=100, random_state=42)</pre><b>In a Jupyter environment, please rerun this cell to show the HTML representation or trust the notebook. <br />On GitHub, the HTML representation is unable to render, please try loading this page with nbviewer.org.</b></div><div class=\"sk-container\" hidden><div class=\"sk-item sk-dashed-wrapped\"><div class=\"sk-label-container\"><div class=\"sk-label sk-toggleable\"><input class=\"sk-toggleable__control sk-hidden--visually\" id=\"sk-estimator-id-2\" type=\"checkbox\" ><label for=\"sk-estimator-id-2\" class=\"sk-toggleable__label sk-toggleable__label-arrow\">AdaBoostClassifier</label><div class=\"sk-toggleable__content\"><pre>AdaBoostClassifier(estimator=DecisionTreeClassifier(max_depth=20,\n",
       "                                                    random_state=42),\n",
       "                   learning_rate=0.1, n_estimators=100, random_state=42)</pre></div></div></div><div class=\"sk-parallel\"><div class=\"sk-parallel-item\"><div class=\"sk-item\"><div class=\"sk-label-container\"><div class=\"sk-label sk-toggleable\"><input class=\"sk-toggleable__control sk-hidden--visually\" id=\"sk-estimator-id-3\" type=\"checkbox\" ><label for=\"sk-estimator-id-3\" class=\"sk-toggleable__label sk-toggleable__label-arrow\">estimator: DecisionTreeClassifier</label><div class=\"sk-toggleable__content\"><pre>DecisionTreeClassifier(max_depth=20, random_state=42)</pre></div></div></div><div class=\"sk-serial\"><div class=\"sk-item\"><div class=\"sk-estimator sk-toggleable\"><input class=\"sk-toggleable__control sk-hidden--visually\" id=\"sk-estimator-id-4\" type=\"checkbox\" ><label for=\"sk-estimator-id-4\" class=\"sk-toggleable__label sk-toggleable__label-arrow\">DecisionTreeClassifier</label><div class=\"sk-toggleable__content\"><pre>DecisionTreeClassifier(max_depth=20, random_state=42)</pre></div></div></div></div></div></div></div></div></div></div>"
      ],
      "text/plain": [
       "AdaBoostClassifier(estimator=DecisionTreeClassifier(max_depth=20,\n",
       "                                                    random_state=42),\n",
       "                   learning_rate=0.1, n_estimators=100, random_state=42)"
      ]
     },
     "execution_count": 11,
     "metadata": {},
     "output_type": "execute_result"
    }
   ],
   "source": [
    "model"
   ]
  },
  {
   "cell_type": "markdown",
   "id": "6026552a",
   "metadata": {},
   "source": [
    "*load train/test*"
   ]
  },
  {
   "cell_type": "code",
   "execution_count": 12,
   "id": "d13bd5cc",
   "metadata": {},
   "outputs": [],
   "source": [
    "### train\n",
    "X_train=pd.read_excel('models/X-train.xlsx')\n",
    "y_train=pd.read_excel('models/y-train.xlsx')\n",
    "\n",
    "### test\n",
    "X_test=pd.read_excel('models/X-test.xlsx')\n",
    "y_test=pd.read_excel('models/y-test.xlsx')"
   ]
  },
  {
   "cell_type": "markdown",
   "id": "0943d0ab",
   "metadata": {},
   "source": [
    "`SHAP`"
   ]
  },
  {
   "cell_type": "code",
   "execution_count": 13,
   "id": "3c7b2625",
   "metadata": {},
   "outputs": [],
   "source": [
    "def model_predict(X):\n",
    "    return model.predict_proba(X)\n",
    "\n",
    "explainer = shap.KernelExplainer(model_predict, shap.sample(X_train, 100))"
   ]
  },
  {
   "cell_type": "code",
   "execution_count": 14,
   "id": "19bcd658",
   "metadata": {},
   "outputs": [
    {
     "data": {
      "application/vnd.jupyter.widget-view+json": {
       "model_id": "479c7f4cb9d94f99aa9e833eddf35136",
       "version_major": 2,
       "version_minor": 0
      },
      "text/plain": [
       "  0%|          | 0/200 [00:00<?, ?it/s]"
      ]
     },
     "metadata": {},
     "output_type": "display_data"
    }
   ],
   "source": [
    "shap_values = explainer.shap_values(X_test)"
   ]
  },
  {
   "cell_type": "code",
   "execution_count": 15,
   "id": "642575a8",
   "metadata": {},
   "outputs": [],
   "source": [
    "shap_values_transposed = shap_values.T"
   ]
  },
  {
   "cell_type": "code",
   "execution_count": 16,
   "id": "5b7e6762",
   "metadata": {
    "scrolled": false
   },
   "outputs": [
    {
     "data": {
      "image/png": "[encoded data removed]",
      "text/plain": [
       "<Figure size 576x482.4 with 1 Axes>"
      ]
     },
     "metadata": {
      "needs_background": "light"
     },
     "output_type": "display_data"
    },
    {
     "data": {
      "image/png": "[encoded data removed]",
      "text/plain": [
       "<Figure size 576x482.4 with 1 Axes>"
      ]
     },
     "metadata": {
      "needs_background": "light"
     },
     "output_type": "display_data"
    },
    {
     "data": {
      "image/png": "[encoded data removed]",
      "text/plain": [
       "<Figure size 576x482.4 with 1 Axes>"
      ]
     },
     "metadata": {
      "needs_background": "light"
     },
     "output_type": "display_data"
    }
   ],
   "source": [
    "revenue_dict={0:'high revenue', \n",
    "              1:'low revenue',\n",
    "              2:'medium revenue'}\n",
    "\n",
    "for class_index in range(shap_values_transposed.shape[0]):\n",
    "    \n",
    "    shap.summary_plot(shap_values_transposed[class_index].T, \n",
    "                      feature_names=X_test.columns, \n",
    "                      plot_type=\"bar\", \n",
    "                      show=False)\n",
    "    \n",
    "    plt.title(f'SHAP Summary Plot for Class {revenue_dict[class_index]}')\n",
    "    plt.savefig(f'img/SHAP-summary-plot-{revenue_dict[class_index]}.png')\n",
    "    plt.show()"
   ]
  },
  {
   "cell_type": "markdown",
   "id": "7de6d378",
   "metadata": {},
   "source": [
    "**load data**"
   ]
  },
  {
   "cell_type": "code",
   "execution_count": 17,
   "id": "b92fe66e",
   "metadata": {},
   "outputs": [
    {
     "data": {
      "text/html": [
       "<div>\n",
       "<style scoped>\n",
       "    .dataframe tbody tr th:only-of-type {\n",
       "        vertical-align: middle;\n",
       "    }\n",
       "\n",
       "    .dataframe tbody tr th {\n",
       "        vertical-align: top;\n",
       "    }\n",
       "\n",
       "    .dataframe thead th {\n",
       "        text-align: right;\n",
       "    }\n",
       "</style>\n",
       "<table border=\"1\" class=\"dataframe\">\n",
       "  <thead>\n",
       "    <tr style=\"text-align: right;\">\n",
       "      <th></th>\n",
       "      <th>Number_of_Customers</th>\n",
       "      <th>Menu_Price</th>\n",
       "      <th>Marketing_Spend</th>\n",
       "      <th>Average_Customer_Spending</th>\n",
       "      <th>Promotions</th>\n",
       "      <th>Reviews</th>\n",
       "      <th>cuisine-encode</th>\n",
       "      <th>marketing_spend_per_customer</th>\n",
       "      <th>revenue_per_customer</th>\n",
       "      <th>reviews_to_revenue_ratio</th>\n",
       "      <th>marketing_efficiency</th>\n",
       "      <th>relative_menu_price</th>\n",
       "      <th>client-type-encode</th>\n",
       "      <th>clf-revenue</th>\n",
       "      <th>monthly-revenue</th>\n",
       "    </tr>\n",
       "  </thead>\n",
       "  <tbody>\n",
       "    <tr>\n",
       "      <th>0</th>\n",
       "      <td>51</td>\n",
       "      <td>45.145165</td>\n",
       "      <td>1.292334</td>\n",
       "      <td>15.143859</td>\n",
       "      <td>0</td>\n",
       "      <td>96</td>\n",
       "      <td>1</td>\n",
       "      <td>0.02534</td>\n",
       "      <td>5.0152</td>\n",
       "      <td>2.664325</td>\n",
       "      <td>197.917311</td>\n",
       "      <td>0.335448</td>\n",
       "      <td>2</td>\n",
       "      <td>medium revenue</td>\n",
       "      <td>255.775191</td>\n",
       "    </tr>\n",
       "  </tbody>\n",
       "</table>\n",
       "</div>"
      ],
      "text/plain": [
       "   Number_of_Customers  Menu_Price  Marketing_Spend  \\\n",
       "0                   51   45.145165         1.292334   \n",
       "\n",
       "   Average_Customer_Spending  Promotions  Reviews  cuisine-encode  \\\n",
       "0                  15.143859           0       96               1   \n",
       "\n",
       "   marketing_spend_per_customer  revenue_per_customer  \\\n",
       "0                       0.02534                5.0152   \n",
       "\n",
       "   reviews_to_revenue_ratio  marketing_efficiency  relative_menu_price  \\\n",
       "0                  2.664325            197.917311             0.335448   \n",
       "\n",
       "   client-type-encode     clf-revenue  monthly-revenue  \n",
       "0                   2  medium revenue       255.775191  "
      ]
     },
     "execution_count": 17,
     "metadata": {},
     "output_type": "execute_result"
    }
   ],
   "source": [
    "data = pd.concat([pd.read_excel('models/df-train.xlsx'),\n",
    "                  pd.read_excel('models/df-test.xlsx')], ignore_index=True)\n",
    "data['monthly-revenue']=data['revenue_per_customer']*data['Number_of_Customers']\n",
    "data.head(1)"
   ]
  },
  {
   "cell_type": "markdown",
   "id": "0a8ceef4",
   "metadata": {},
   "source": [
    "### Insights\n",
    "\n",
    "**High Revenue:**\n",
    "\n",
    "Analyzing the SHAP values for the AdaBoost model reveals that the primary factors for classifying a site as high revenue are the number of customers and the revenue per customer. This is intuitive, as more customers spending more money leads to higher profitability.\n",
    "\n",
    "However, we also consider additional features such as marketing efficiency, marketing spend, and the reviews-to-revenue ratio:\n",
    "\n",
    "- **Reviews to Revenue Ratio:** This metric shows the relationship between the number of reviews and monthly revenue. A high ratio may indicate a significant influence of reviews on revenue. With the highest ratio among all classification sites, it appears that the influence of reviews on revenue is substantial.\n",
    "\n",
    "- **Marketing Efficiency and Marketing Spend:** We assess marketing efficiency by comparing marketing expenses with monthly revenue. A higher value suggests greater efficiency in converting marketing spend into revenue. For high revenue sites, marketing efficiency is not the best, and marketing spend is the highest among all revenue types, indicating an opportunity for improvement in this metric.\n",
    "\n",
    "- **Relative Menu Price:** This compares the menu price with the average customer spending. A value greater than 1 indicates that customers are willing to pay more than the average menu price, suggesting a less price-sensitive clientele. However, for high revenue sites, customers do not spend significantly more than the average menu price."
   ]
  },
  {
   "cell_type": "markdown",
   "id": "7b4c2971",
   "metadata": {},
   "source": [
    "<img src=\"img/shap-high-revenue-shortcut.png\" alt=\"shap-high-revenue-shortcut\" width=\"500\">"
   ]
  },
  {
   "cell_type": "markdown",
   "id": "7a2a6982",
   "metadata": {},
   "source": [
    "**Low Revenue:**\n",
    "\n",
    "For low revenue sites, the key factors are similar: the number of customers and the revenue per customer. Additionally, we consider the reviews-to-revenue ratio, marketing efficiency, and marketing spend per customer:\n",
    "\n",
    "- **Reviews to Revenue Ratio:** This metric shows the relationship between the number of reviews and monthly revenue. A high ratio may indicate a significant influence of reviews on revenue. Despite a high number of reviews, low revenue sites show that reviews significantly impact revenue.\n",
    "\n",
    "- **Marketing Efficiency and Marketing Spend:** We assess marketing efficiency by comparing marketing expenses with monthly revenue. Low revenue sites spend less on marketing but have the highest marketing efficiency, suggesting that their marketing spend is well converted into revenue. Increasing marketing spend could potentially improve their revenue.\n",
    "\n",
    "- **Marketing Spend per Customer:** This metric reveals how efficiently marketing resources are used to attract customers. For low revenue sites, marketing spend per customer is the highest, yet the number of customers is the lowest. This inefficiency indicates a need for deeper analysis to improve customer acquisition."
   ]
  },
  {
   "cell_type": "markdown",
   "id": "2f2b0925",
   "metadata": {},
   "source": [
    "<img src=\"img/shap-low-revenue-shortcut.png\" alt=\"shap-low-revenue-shortcut\" width=\"500\">"
   ]
  },
  {
   "cell_type": "markdown",
   "id": "d793bb6e",
   "metadata": {},
   "source": [
    "**Medium Revenue:**\n",
    "\n",
    "For medium revenue sites, the key factors remain the number of customers and the revenue per customer. Additionally, we consider marketing efficiency, marketing spend, and the reviews-to-revenue ratio:\n",
    "\n",
    "- **Reviews to Revenue Ratio:** This metric shows the relationship between the number of reviews and monthly revenue. A high ratio may indicate a significant influence of reviews on revenue.\n",
    "\n",
    "- **Marketing Efficiency and Marketing Spend:** We assess marketing efficiency by comparing marketing expenses with monthly revenue. A higher value suggests greater efficiency in converting marketing spend into revenue.\n",
    "\n",
    "- **Relative Menu Price:** This compares the menu price with the average customer spending. A value greater than 1 indicates that customers are willing to pay more than the average menu price, suggesting a less price-sensitive clientele.\n",
    "\n",
    "The medium revenue segment shares similarities with the high revenue segment. The key features for the model are reviews, marketing, and to a lesser extent, the menu price. Notably, despite higher menu prices (on average) in medium revenue sites compared to low revenue sites, the number of customers remains higher. This insight helps us understand how the AdaBoost model makes decisions and highlights areas for potential optimization across different revenue segments."
   ]
  },
  {
   "cell_type": "markdown",
   "id": "3250c569",
   "metadata": {},
   "source": [
    "<img src=\"img/shap-medium-revenue-shortcut.png\" alt=\"shap-medium-revenue-shortcut\" width=\"500\">"
   ]
  },
  {
   "cell_type": "markdown",
   "id": "a1e939d3",
   "metadata": {},
   "source": [
    "### `More insights:`\n",
    "\n",
    "As we can see in the next table, the classification of the sites may contain different types of clients, from economic to premium. It's important to remember that the client type was determined based on the average menu price of each cluster.\n",
    "\n",
    "*`High Revenue`*\n",
    "- The table shows that the average customer spending and the number of clients are lower for premium clients than for economic clients, but the revenue per customer is higher for the premium segment. Interestingly, the standard clients have the highest revenue per customer among the high revenue sites. Based on this, we can consider two strategies:\n",
    "  1. Increase the number of visits to sites with standard clients while maintaining the average revenue per customer.\n",
    "  2. Increase the revenue per customer for sites with economic clients.\n",
    "\n",
    "*`Low Revenue`*\n",
    "- For the low revenue sites, the SHAP values highlighted the importance of the number of customers and the revenue per customer. The data shows that both these metrics are lower compared to other clusters. To address this, we need to identify the causal variables that can increase revenue. Two potential actions are:\n",
    "  1. Increase the number of customers through specific actions. Before developing an action plan, it is crucial to understand the causal variables that drive customer visits.\n",
    "  2. Increase the menu price while maintaining the current range of customer visits. This requires an understanding of price sensitivity.\n",
    "\n",
    "*`Medium Revenue`*\n",
    "- For medium revenue sites, the situation is similar to the other segments. Economic clients spend more on average, but the revenue is slightly higher for premium clients. Although there are more economic clients, we need to consider solutions similar to those above:\n",
    "  1. Increase the number of clients without decreasing revenue or prices.\n",
    "  2. Increase the prices without decreasing the number of customers.\n",
    "\n",
    "By understanding these dynamics, we can tailor our strategies to maximize revenue across different client types and site classifications."
   ]
  },
  {
   "cell_type": "code",
   "execution_count": 18,
   "id": "6f968312",
   "metadata": {},
   "outputs": [
    {
     "data": {
      "text/html": [
       "<div>\n",
       "<style scoped>\n",
       "    .dataframe tbody tr th:only-of-type {\n",
       "        vertical-align: middle;\n",
       "    }\n",
       "\n",
       "    .dataframe tbody tr th {\n",
       "        vertical-align: top;\n",
       "    }\n",
       "\n",
       "    .dataframe thead th {\n",
       "        text-align: right;\n",
       "    }\n",
       "</style>\n",
       "<table border=\"1\" class=\"dataframe\">\n",
       "  <thead>\n",
       "    <tr style=\"text-align: right;\">\n",
       "      <th></th>\n",
       "      <th>Number_of_Customers</th>\n",
       "      <th>Menu_Price</th>\n",
       "      <th>Marketing_Spend</th>\n",
       "      <th>Average_Customer_Spending</th>\n",
       "      <th>Promotions</th>\n",
       "      <th>Reviews</th>\n",
       "      <th>cuisine-encode</th>\n",
       "      <th>marketing_spend_per_customer</th>\n",
       "      <th>revenue_per_customer</th>\n",
       "      <th>reviews_to_revenue_ratio</th>\n",
       "      <th>marketing_efficiency</th>\n",
       "      <th>relative_menu_price</th>\n",
       "      <th>client-type-encode</th>\n",
       "      <th>clf-revenue</th>\n",
       "      <th>monthly-revenue</th>\n",
       "      <th>client-type</th>\n",
       "    </tr>\n",
       "  </thead>\n",
       "  <tbody>\n",
       "    <tr>\n",
       "      <th>0</th>\n",
       "      <td>51</td>\n",
       "      <td>45.145165</td>\n",
       "      <td>1.292334</td>\n",
       "      <td>15.143859</td>\n",
       "      <td>0</td>\n",
       "      <td>96</td>\n",
       "      <td>1</td>\n",
       "      <td>0.02534</td>\n",
       "      <td>5.0152</td>\n",
       "      <td>2.664325</td>\n",
       "      <td>197.917311</td>\n",
       "      <td>0.335448</td>\n",
       "      <td>2</td>\n",
       "      <td>medium revenue</td>\n",
       "      <td>255.775191</td>\n",
       "      <td>premium</td>\n",
       "    </tr>\n",
       "  </tbody>\n",
       "</table>\n",
       "</div>"
      ],
      "text/plain": [
       "   Number_of_Customers  Menu_Price  Marketing_Spend  \\\n",
       "0                   51   45.145165         1.292334   \n",
       "\n",
       "   Average_Customer_Spending  Promotions  Reviews  cuisine-encode  \\\n",
       "0                  15.143859           0       96               1   \n",
       "\n",
       "   marketing_spend_per_customer  revenue_per_customer  \\\n",
       "0                       0.02534                5.0152   \n",
       "\n",
       "   reviews_to_revenue_ratio  marketing_efficiency  relative_menu_price  \\\n",
       "0                  2.664325            197.917311             0.335448   \n",
       "\n",
       "   client-type-encode     clf-revenue  monthly-revenue client-type  \n",
       "0                   2  medium revenue       255.775191     premium  "
      ]
     },
     "execution_count": 18,
     "metadata": {},
     "output_type": "execute_result"
    }
   ],
   "source": [
    "condition_list=[data['client-type-encode']==0,\n",
    "                data['client-type-encode']==1,\n",
    "                data['client-type-encode']==2]\n",
    "\n",
    "choice_list=['standard', 'economic', 'premium']\n",
    "\n",
    "data['client-type']=np.select(condition_list, choice_list, 'no data')\n",
    "data.head(1)"
   ]
  },
  {
   "cell_type": "code",
   "execution_count": 19,
   "id": "7d649eab",
   "metadata": {},
   "outputs": [
    {
     "data": {
      "text/html": [
       "<div>\n",
       "<style scoped>\n",
       "    .dataframe tbody tr th:only-of-type {\n",
       "        vertical-align: middle;\n",
       "    }\n",
       "\n",
       "    .dataframe tbody tr th {\n",
       "        vertical-align: top;\n",
       "    }\n",
       "\n",
       "    .dataframe thead th {\n",
       "        text-align: right;\n",
       "    }\n",
       "</style>\n",
       "<table border=\"1\" class=\"dataframe\">\n",
       "  <thead>\n",
       "    <tr style=\"text-align: right;\">\n",
       "      <th></th>\n",
       "      <th></th>\n",
       "      <th>Number_of_Customers</th>\n",
       "      <th>Average_Customer_Spending</th>\n",
       "      <th>revenue_per_customer</th>\n",
       "      <th>monthly-revenue</th>\n",
       "    </tr>\n",
       "    <tr>\n",
       "      <th>clf-revenue</th>\n",
       "      <th>client-type</th>\n",
       "      <th></th>\n",
       "      <th></th>\n",
       "      <th></th>\n",
       "      <th></th>\n",
       "    </tr>\n",
       "  </thead>\n",
       "  <tbody>\n",
       "    <tr>\n",
       "      <th rowspan=\"3\" valign=\"top\">high revenue</th>\n",
       "      <th>economic</th>\n",
       "      <td>82.750000</td>\n",
       "      <td>39.362149</td>\n",
       "      <td>4.742285</td>\n",
       "      <td>387.382660</td>\n",
       "    </tr>\n",
       "    <tr>\n",
       "      <th>premium</th>\n",
       "      <td>78.539535</td>\n",
       "      <td>27.469892</td>\n",
       "      <td>5.354601</td>\n",
       "      <td>404.251373</td>\n",
       "    </tr>\n",
       "    <tr>\n",
       "      <th>standard</th>\n",
       "      <td>33.750000</td>\n",
       "      <td>35.982112</td>\n",
       "      <td>11.221644</td>\n",
       "      <td>369.465261</td>\n",
       "    </tr>\n",
       "    <tr>\n",
       "      <th rowspan=\"3\" valign=\"top\">low revenue</th>\n",
       "      <th>economic</th>\n",
       "      <td>34.327869</td>\n",
       "      <td>33.780046</td>\n",
       "      <td>4.185148</td>\n",
       "      <td>128.846336</td>\n",
       "    </tr>\n",
       "    <tr>\n",
       "      <th>premium</th>\n",
       "      <td>39.687500</td>\n",
       "      <td>20.747534</td>\n",
       "      <td>4.446796</td>\n",
       "      <td>167.913557</td>\n",
       "    </tr>\n",
       "    <tr>\n",
       "      <th>standard</th>\n",
       "      <td>17.687500</td>\n",
       "      <td>27.483517</td>\n",
       "      <td>8.453181</td>\n",
       "      <td>134.991999</td>\n",
       "    </tr>\n",
       "    <tr>\n",
       "      <th rowspan=\"3\" valign=\"top\">medium revenue</th>\n",
       "      <th>economic</th>\n",
       "      <td>63.533784</td>\n",
       "      <td>36.760587</td>\n",
       "      <td>4.410048</td>\n",
       "      <td>262.249386</td>\n",
       "    </tr>\n",
       "    <tr>\n",
       "      <th>premium</th>\n",
       "      <td>62.183036</td>\n",
       "      <td>24.687426</td>\n",
       "      <td>4.915345</td>\n",
       "      <td>285.398966</td>\n",
       "    </tr>\n",
       "    <tr>\n",
       "      <th>standard</th>\n",
       "      <td>27.291339</td>\n",
       "      <td>28.863863</td>\n",
       "      <td>10.409872</td>\n",
       "      <td>249.360391</td>\n",
       "    </tr>\n",
       "  </tbody>\n",
       "</table>\n",
       "</div>"
      ],
      "text/plain": [
       "                            Number_of_Customers  Average_Customer_Spending  \\\n",
       "clf-revenue    client-type                                                   \n",
       "high revenue   economic               82.750000                  39.362149   \n",
       "               premium                78.539535                  27.469892   \n",
       "               standard               33.750000                  35.982112   \n",
       "low revenue    economic               34.327869                  33.780046   \n",
       "               premium                39.687500                  20.747534   \n",
       "               standard               17.687500                  27.483517   \n",
       "medium revenue economic               63.533784                  36.760587   \n",
       "               premium                62.183036                  24.687426   \n",
       "               standard               27.291339                  28.863863   \n",
       "\n",
       "                            revenue_per_customer  monthly-revenue  \n",
       "clf-revenue    client-type                                         \n",
       "high revenue   economic                 4.742285       387.382660  \n",
       "               premium                  5.354601       404.251373  \n",
       "               standard                11.221644       369.465261  \n",
       "low revenue    economic                 4.185148       128.846336  \n",
       "               premium                  4.446796       167.913557  \n",
       "               standard                 8.453181       134.991999  \n",
       "medium revenue economic                 4.410048       262.249386  \n",
       "               premium                  4.915345       285.398966  \n",
       "               standard                10.409872       249.360391  "
      ]
     },
     "execution_count": 19,
     "metadata": {},
     "output_type": "execute_result"
    }
   ],
   "source": [
    "cols= ['Number_of_Customers','Average_Customer_Spending', 'revenue_per_customer',\n",
    "       'clf-revenue', 'client-type', 'monthly-revenue']\n",
    "\n",
    "data[cols].groupby(by=['clf-revenue', 'client-type'], as_index=True).agg('mean')"
   ]
  },
  {
   "cell_type": "markdown",
   "id": "925eb078",
   "metadata": {},
   "source": [
    "### `exploring hypotheticals`"
   ]
  },
  {
   "cell_type": "markdown",
   "id": "555d5331",
   "metadata": {},
   "source": [
    "<img src=\"what-if.webp\" alt=\"what-if\" width=\"450\">"
   ]
  },
  {
   "cell_type": "code",
   "execution_count": 20,
   "id": "6bef7fc1",
   "metadata": {},
   "outputs": [
    {
     "data": {
      "text/html": [
       "<div>\n",
       "<style scoped>\n",
       "    .dataframe tbody tr th:only-of-type {\n",
       "        vertical-align: middle;\n",
       "    }\n",
       "\n",
       "    .dataframe tbody tr th {\n",
       "        vertical-align: top;\n",
       "    }\n",
       "\n",
       "    .dataframe thead th {\n",
       "        text-align: right;\n",
       "    }\n",
       "</style>\n",
       "<table border=\"1\" class=\"dataframe\">\n",
       "  <thead>\n",
       "    <tr style=\"text-align: right;\">\n",
       "      <th></th>\n",
       "      <th>Number_of_Customers</th>\n",
       "      <th>Menu_Price</th>\n",
       "      <th>Marketing_Spend</th>\n",
       "      <th>Average_Customer_Spending</th>\n",
       "      <th>Promotions</th>\n",
       "      <th>Reviews</th>\n",
       "      <th>cuisine-encode</th>\n",
       "      <th>marketing_spend_per_customer</th>\n",
       "      <th>revenue_per_customer</th>\n",
       "      <th>reviews_to_revenue_ratio</th>\n",
       "      <th>marketing_efficiency</th>\n",
       "      <th>relative_menu_price</th>\n",
       "      <th>client-type-encode</th>\n",
       "      <th>clf-revenue</th>\n",
       "    </tr>\n",
       "  </thead>\n",
       "  <tbody>\n",
       "    <tr>\n",
       "      <th>0</th>\n",
       "      <td>45</td>\n",
       "      <td>46.473441</td>\n",
       "      <td>4.404506</td>\n",
       "      <td>32.219891</td>\n",
       "      <td>0</td>\n",
       "      <td>19</td>\n",
       "      <td>2</td>\n",
       "      <td>0.097878</td>\n",
       "      <td>6.579109</td>\n",
       "      <td>15.5821</td>\n",
       "      <td>67.217503</td>\n",
       "      <td>0.693297</td>\n",
       "      <td>2</td>\n",
       "      <td>medium revenue</td>\n",
       "    </tr>\n",
       "  </tbody>\n",
       "</table>\n",
       "</div>"
      ],
      "text/plain": [
       "   Number_of_Customers  Menu_Price  Marketing_Spend  \\\n",
       "0                   45   46.473441         4.404506   \n",
       "\n",
       "   Average_Customer_Spending  Promotions  Reviews  cuisine-encode  \\\n",
       "0                  32.219891           0       19               2   \n",
       "\n",
       "   marketing_spend_per_customer  revenue_per_customer  \\\n",
       "0                      0.097878              6.579109   \n",
       "\n",
       "   reviews_to_revenue_ratio  marketing_efficiency  relative_menu_price  \\\n",
       "0                   15.5821             67.217503             0.693297   \n",
       "\n",
       "   client-type-encode     clf-revenue  \n",
       "0                   2  medium revenue  "
      ]
     },
     "execution_count": 20,
     "metadata": {},
     "output_type": "execute_result"
    }
   ],
   "source": [
    "test=X_test.merge(y_test, left_index=True, right_index=True)\n",
    "test.head(1)"
   ]
  },
  {
   "cell_type": "markdown",
   "id": "5dc1322c",
   "metadata": {},
   "source": [
    "#### *`DiCE (Diverse Counterfactual Explanations)`*\n",
    "\n",
    "The next question we need to address is:\n",
    "\n",
    "- What adjustments do we need to make to improve revenue? While SHAP gives us insights into the most important features for the model, we need a strategy to improve revenue. To do this, we must know which features to adjust and by what proportion. This is where DiCE (Diverse Counterfactual Explanations) comes in.\n",
    "\n",
    "DiCE (Diverse Counterfactual Explanations) is an algorithm that helps explain machine learning model predictions by showing alternative scenarios. Here's an easy explanation:\n",
    "\n",
    "1. **What-If Scenarios:** DiCE creates \"what-if\" scenarios by tweaking the input features slightly to see how these changes affect the prediction. This helps us understand what needs to change for a different outcome.\n",
    "\n",
    "2. **Diverse Explanations:** Instead of providing just one alternative, DiCE offers multiple diverse counterfactual explanations. This shows various ways to achieve a different prediction, giving a broader understanding of the model's behavior.\n",
    "\n",
    "3. **Actionable Insights:** These counterfactual explanations can suggest actionable changes. For example, if a loan application is denied, DiCE might show what changes (like increasing income or reducing debt) could lead to approval.\n",
    "\n",
    "4. **Model Transparency:** By showing how different inputs lead to different outputs, DiCE makes the model's decision-making process more transparent and easier to trust.\n",
    "\n",
    "In summary, DiCE helps us understand and trust machine learning models by providing multiple alternative scenarios that explain how different inputs can change the predictions. This approach is particularly useful for identifying which features to adjust and by how much to achieve the desired increase in revenue. By leveraging DiCE, we can formulate targeted and effective strategies for revenue enhancement, ensuring our model not only performs well but also provides actionable insights for continuous improvement."
   ]
  },
  {
   "cell_type": "code",
   "execution_count": 21,
   "id": "3111b8c9",
   "metadata": {},
   "outputs": [],
   "source": [
    "d=dice_ml.Data(dataframe=test,\n",
    "               continuous_features=list(test.columns[:-1]),\n",
    "               outcome_name='clf-revenue')\n",
    "\n",
    "m=dice_ml.Model(model=model, \n",
    "                backend='sklearn')\n",
    "\n",
    "exp=dice_ml.Dice(d, \n",
    "                 m, \n",
    "                 method='random')"
   ]
  },
  {
   "cell_type": "code",
   "execution_count": 22,
   "id": "14b6ec11",
   "metadata": {},
   "outputs": [],
   "source": [
    "dc_data=test[test['clf-revenue'] != 'high revenue'].reset_index(drop=True)"
   ]
  },
  {
   "cell_type": "code",
   "execution_count": 23,
   "id": "50fbb03c",
   "metadata": {},
   "outputs": [],
   "source": [
    "def json_pandas(dice):\n",
    "    return pd.json_normalize(json.loads(dice.to_json()))    "
   ]
  },
  {
   "cell_type": "markdown",
   "id": "7dfc02c9",
   "metadata": {},
   "source": [
    "*create the scenarios*"
   ]
  },
  {
   "cell_type": "code",
   "execution_count": 39,
   "id": "19e64099",
   "metadata": {
    "scrolled": true
   },
   "outputs": [
    {
     "name": "stdout",
     "output_type": "stream",
     "text": [
      "0\n",
      "medium revenue <==> high revenue - 0\n"
     ]
    },
    {
     "name": "stderr",
     "output_type": "stream",
     "text": [
      "100%|████████████████████████████| 1/1 [00:00<00:00,  7.88it/s]\n"
     ]
    },
    {
     "name": "stdout",
     "output_type": "stream",
     "text": [
      "1\n",
      "medium revenue <==> high revenue - 0\n"
     ]
    },
    {
     "name": "stderr",
     "output_type": "stream",
     "text": [
      "100%|████████████████████████████| 1/1 [00:00<00:00,  6.91it/s]\n"
     ]
    },
    {
     "name": "stdout",
     "output_type": "stream",
     "text": [
      "2\n",
      "medium revenue <==> high revenue - 0\n"
     ]
    },
    {
     "name": "stderr",
     "output_type": "stream",
     "text": [
      "100%|████████████████████████████| 1/1 [00:00<00:00,  7.71it/s]\n"
     ]
    },
    {
     "name": "stdout",
     "output_type": "stream",
     "text": [
      "3\n",
      "medium revenue <==> high revenue - 0\n"
     ]
    },
    {
     "name": "stderr",
     "output_type": "stream",
     "text": [
      "100%|████████████████████████████| 1/1 [00:00<00:00,  6.85it/s]\n"
     ]
    },
    {
     "name": "stdout",
     "output_type": "stream",
     "text": [
      "4\n",
      "low revenue <==> medium revenue - 2\n"
     ]
    },
    {
     "name": "stderr",
     "output_type": "stream",
     "text": [
      "100%|████████████████████████████| 1/1 [00:00<00:00,  6.98it/s]\n"
     ]
    },
    {
     "name": "stdout",
     "output_type": "stream",
     "text": [
      "5\n",
      "low revenue <==> medium revenue - 2\n"
     ]
    },
    {
     "name": "stderr",
     "output_type": "stream",
     "text": [
      "100%|████████████████████████████| 1/1 [00:00<00:00,  8.54it/s]\n"
     ]
    },
    {
     "name": "stdout",
     "output_type": "stream",
     "text": [
      "6\n",
      "low revenue <==> medium revenue - 2\n"
     ]
    },
    {
     "name": "stderr",
     "output_type": "stream",
     "text": [
      "100%|████████████████████████████| 1/1 [00:20<00:00, 20.52s/it]\n"
     ]
    },
    {
     "name": "stdout",
     "output_type": "stream",
     "text": [
      "7\n",
      "low revenue <==> medium revenue - 2\n"
     ]
    },
    {
     "name": "stderr",
     "output_type": "stream",
     "text": [
      "100%|████████████████████████████| 1/1 [00:22<00:00, 22.86s/it]\n"
     ]
    },
    {
     "name": "stdout",
     "output_type": "stream",
     "text": [
      "8\n",
      "medium revenue <==> high revenue - 0\n"
     ]
    },
    {
     "name": "stderr",
     "output_type": "stream",
     "text": [
      "100%|████████████████████████████| 1/1 [00:00<00:00,  7.10it/s]\n"
     ]
    },
    {
     "name": "stdout",
     "output_type": "stream",
     "text": [
      "9\n",
      "low revenue <==> medium revenue - 2\n"
     ]
    },
    {
     "name": "stderr",
     "output_type": "stream",
     "text": [
      "100%|████████████████████████████| 1/1 [00:00<00:00,  9.17it/s]\n"
     ]
    },
    {
     "name": "stdout",
     "output_type": "stream",
     "text": [
      "10\n",
      "medium revenue <==> high revenue - 0\n"
     ]
    },
    {
     "name": "stderr",
     "output_type": "stream",
     "text": [
      "100%|████████████████████████████| 1/1 [00:00<00:00,  7.19it/s]\n"
     ]
    },
    {
     "name": "stdout",
     "output_type": "stream",
     "text": [
      "11\n",
      "medium revenue <==> high revenue - 0\n"
     ]
    },
    {
     "name": "stderr",
     "output_type": "stream",
     "text": [
      "100%|████████████████████████████| 1/1 [00:00<00:00,  7.62it/s]\n"
     ]
    },
    {
     "name": "stdout",
     "output_type": "stream",
     "text": [
      "12\n",
      "low revenue <==> medium revenue - 2\n"
     ]
    },
    {
     "name": "stderr",
     "output_type": "stream",
     "text": [
      "100%|████████████████████████████| 1/1 [00:00<00:00, 10.00it/s]\n"
     ]
    },
    {
     "name": "stdout",
     "output_type": "stream",
     "text": [
      "13\n",
      "low revenue <==> medium revenue - 2\n"
     ]
    },
    {
     "name": "stderr",
     "output_type": "stream",
     "text": [
      "100%|████████████████████████████| 1/1 [00:00<00:00,  8.13it/s]\n"
     ]
    },
    {
     "name": "stdout",
     "output_type": "stream",
     "text": [
      "14\n",
      "medium revenue <==> high revenue - 0\n"
     ]
    },
    {
     "name": "stderr",
     "output_type": "stream",
     "text": [
      "100%|████████████████████████████| 1/1 [00:00<00:00,  8.98it/s]\n"
     ]
    },
    {
     "name": "stdout",
     "output_type": "stream",
     "text": [
      "15\n",
      "medium revenue <==> high revenue - 0\n"
     ]
    },
    {
     "name": "stderr",
     "output_type": "stream",
     "text": [
      "100%|████████████████████████████| 1/1 [00:00<00:00,  6.48it/s]\n"
     ]
    },
    {
     "name": "stdout",
     "output_type": "stream",
     "text": [
      "16\n",
      "medium revenue <==> high revenue - 0\n"
     ]
    },
    {
     "name": "stderr",
     "output_type": "stream",
     "text": [
      "100%|████████████████████████████| 1/1 [00:23<00:00, 23.65s/it]\n"
     ]
    },
    {
     "name": "stdout",
     "output_type": "stream",
     "text": [
      "17\n",
      "low revenue <==> medium revenue - 2\n"
     ]
    },
    {
     "name": "stderr",
     "output_type": "stream",
     "text": [
      "100%|████████████████████████████| 1/1 [00:00<00:00,  7.76it/s]\n"
     ]
    },
    {
     "name": "stdout",
     "output_type": "stream",
     "text": [
      "18\n",
      "medium revenue <==> high revenue - 0\n"
     ]
    },
    {
     "name": "stderr",
     "output_type": "stream",
     "text": [
      "100%|████████████████████████████| 1/1 [00:00<00:00,  6.79it/s]\n"
     ]
    },
    {
     "name": "stdout",
     "output_type": "stream",
     "text": [
      "19\n",
      "medium revenue <==> high revenue - 0\n"
     ]
    },
    {
     "name": "stderr",
     "output_type": "stream",
     "text": [
      "100%|████████████████████████████| 1/1 [00:00<00:00,  8.55it/s]\n"
     ]
    },
    {
     "name": "stdout",
     "output_type": "stream",
     "text": [
      "20\n",
      "medium revenue <==> high revenue - 0\n"
     ]
    },
    {
     "name": "stderr",
     "output_type": "stream",
     "text": [
      "100%|████████████████████████████| 1/1 [00:00<00:00,  8.46it/s]\n"
     ]
    },
    {
     "name": "stdout",
     "output_type": "stream",
     "text": [
      "21\n",
      "low revenue <==> medium revenue - 2\n"
     ]
    },
    {
     "name": "stderr",
     "output_type": "stream",
     "text": [
      "100%|████████████████████████████| 1/1 [00:00<00:00, 10.20it/s]\n"
     ]
    },
    {
     "name": "stdout",
     "output_type": "stream",
     "text": [
      "22\n",
      "medium revenue <==> high revenue - 0\n"
     ]
    },
    {
     "name": "stderr",
     "output_type": "stream",
     "text": [
      "100%|████████████████████████████| 1/1 [00:00<00:00,  8.47it/s]\n"
     ]
    },
    {
     "name": "stdout",
     "output_type": "stream",
     "text": [
      "23\n",
      "low revenue <==> medium revenue - 2\n"
     ]
    },
    {
     "name": "stderr",
     "output_type": "stream",
     "text": [
      "100%|████████████████████████████| 1/1 [00:00<00:00,  4.33it/s]\n"
     ]
    },
    {
     "name": "stdout",
     "output_type": "stream",
     "text": [
      "24\n",
      "low revenue <==> medium revenue - 2\n"
     ]
    },
    {
     "name": "stderr",
     "output_type": "stream",
     "text": [
      "100%|████████████████████████████| 1/1 [00:00<00:00,  3.07it/s]\n"
     ]
    },
    {
     "name": "stdout",
     "output_type": "stream",
     "text": [
      "25\n",
      "medium revenue <==> high revenue - 0\n"
     ]
    },
    {
     "name": "stderr",
     "output_type": "stream",
     "text": [
      "100%|████████████████████████████| 1/1 [00:00<00:00,  5.07it/s]\n"
     ]
    },
    {
     "name": "stdout",
     "output_type": "stream",
     "text": [
      "26\n",
      "medium revenue <==> high revenue - 0\n"
     ]
    },
    {
     "name": "stderr",
     "output_type": "stream",
     "text": [
      "100%|████████████████████████████| 1/1 [00:00<00:00,  4.66it/s]\n"
     ]
    },
    {
     "name": "stdout",
     "output_type": "stream",
     "text": [
      "27\n",
      "medium revenue <==> high revenue - 0\n"
     ]
    },
    {
     "name": "stderr",
     "output_type": "stream",
     "text": [
      "100%|████████████████████████████| 1/1 [00:00<00:00,  4.52it/s]\n"
     ]
    },
    {
     "name": "stdout",
     "output_type": "stream",
     "text": [
      "28\n",
      "low revenue <==> medium revenue - 2\n"
     ]
    },
    {
     "name": "stderr",
     "output_type": "stream",
     "text": [
      "100%|████████████████████████████| 1/1 [00:00<00:00,  5.78it/s]"
     ]
    },
    {
     "name": "stdout",
     "output_type": "stream",
     "text": [
      "29\n",
      "low revenue <==> medium revenue - 2\n"
     ]
    },
    {
     "name": "stderr",
     "output_type": "stream",
     "text": [
      "\n",
      "100%|████████████████████████████| 1/1 [00:00<00:00,  6.43it/s]\n"
     ]
    },
    {
     "name": "stdout",
     "output_type": "stream",
     "text": [
      "30\n",
      "medium revenue <==> high revenue - 0\n"
     ]
    },
    {
     "name": "stderr",
     "output_type": "stream",
     "text": [
      "100%|████████████████████████████| 1/1 [00:00<00:00,  5.63it/s]\n"
     ]
    },
    {
     "name": "stdout",
     "output_type": "stream",
     "text": [
      "31\n",
      "low revenue <==> medium revenue - 2\n"
     ]
    },
    {
     "name": "stderr",
     "output_type": "stream",
     "text": [
      "100%|████████████████████████████| 1/1 [00:00<00:00,  5.64it/s]\n"
     ]
    },
    {
     "name": "stdout",
     "output_type": "stream",
     "text": [
      "32\n",
      "medium revenue <==> high revenue - 0\n"
     ]
    },
    {
     "name": "stderr",
     "output_type": "stream",
     "text": [
      "100%|████████████████████████████| 1/1 [00:00<00:00,  5.91it/s]"
     ]
    },
    {
     "name": "stdout",
     "output_type": "stream",
     "text": [
      "33\n",
      "low revenue <==> medium revenue - 2\n"
     ]
    },
    {
     "name": "stderr",
     "output_type": "stream",
     "text": [
      "\n",
      "100%|████████████████████████████| 1/1 [00:00<00:00,  5.56it/s]\n"
     ]
    },
    {
     "name": "stdout",
     "output_type": "stream",
     "text": [
      "34\n",
      "medium revenue <==> high revenue - 0\n"
     ]
    },
    {
     "name": "stderr",
     "output_type": "stream",
     "text": [
      "100%|████████████████████████████| 1/1 [00:19<00:00, 19.88s/it]\n"
     ]
    },
    {
     "name": "stdout",
     "output_type": "stream",
     "text": [
      "35\n",
      "medium revenue <==> high revenue - 0\n"
     ]
    },
    {
     "name": "stderr",
     "output_type": "stream",
     "text": [
      "100%|████████████████████████████| 1/1 [00:00<00:00,  9.22it/s]\n"
     ]
    },
    {
     "name": "stdout",
     "output_type": "stream",
     "text": [
      "36\n",
      "low revenue <==> medium revenue - 2\n"
     ]
    },
    {
     "name": "stderr",
     "output_type": "stream",
     "text": [
      "100%|████████████████████████████| 1/1 [00:00<00:00,  9.90it/s]\n"
     ]
    },
    {
     "name": "stdout",
     "output_type": "stream",
     "text": [
      "37\n",
      "medium revenue <==> high revenue - 0\n"
     ]
    },
    {
     "name": "stderr",
     "output_type": "stream",
     "text": [
      "100%|████████████████████████████| 1/1 [00:00<00:00,  8.53it/s]\n"
     ]
    },
    {
     "name": "stdout",
     "output_type": "stream",
     "text": [
      "38\n",
      "medium revenue <==> high revenue - 0\n"
     ]
    },
    {
     "name": "stderr",
     "output_type": "stream",
     "text": [
      "100%|████████████████████████████| 1/1 [00:00<00:00,  9.17it/s]\n"
     ]
    },
    {
     "name": "stdout",
     "output_type": "stream",
     "text": [
      "39\n",
      "medium revenue <==> high revenue - 0\n"
     ]
    },
    {
     "name": "stderr",
     "output_type": "stream",
     "text": [
      "100%|████████████████████████████| 1/1 [00:00<00:00,  7.82it/s]\n"
     ]
    },
    {
     "name": "stdout",
     "output_type": "stream",
     "text": [
      "40\n",
      "medium revenue <==> high revenue - 0\n"
     ]
    },
    {
     "name": "stderr",
     "output_type": "stream",
     "text": [
      "100%|████████████████████████████| 1/1 [00:00<00:00,  6.25it/s]\n"
     ]
    },
    {
     "name": "stdout",
     "output_type": "stream",
     "text": [
      "41\n",
      "medium revenue <==> high revenue - 0\n"
     ]
    },
    {
     "name": "stderr",
     "output_type": "stream",
     "text": [
      "100%|████████████████████████████| 1/1 [00:00<00:00,  7.74it/s]\n"
     ]
    },
    {
     "name": "stdout",
     "output_type": "stream",
     "text": [
      "42\n",
      "low revenue <==> medium revenue - 2\n"
     ]
    },
    {
     "name": "stderr",
     "output_type": "stream",
     "text": [
      "100%|████████████████████████████| 1/1 [00:00<00:00,  8.19it/s]\n"
     ]
    },
    {
     "name": "stdout",
     "output_type": "stream",
     "text": [
      "43\n",
      "medium revenue <==> high revenue - 0\n"
     ]
    },
    {
     "name": "stderr",
     "output_type": "stream",
     "text": [
      "100%|████████████████████████████| 1/1 [00:00<00:00,  9.61it/s]\n"
     ]
    },
    {
     "name": "stdout",
     "output_type": "stream",
     "text": [
      "44\n",
      "medium revenue <==> high revenue - 0\n"
     ]
    },
    {
     "name": "stderr",
     "output_type": "stream",
     "text": [
      "100%|████████████████████████████| 1/1 [00:00<00:00,  9.43it/s]\n"
     ]
    },
    {
     "name": "stdout",
     "output_type": "stream",
     "text": [
      "45\n",
      "medium revenue <==> high revenue - 0\n"
     ]
    },
    {
     "name": "stderr",
     "output_type": "stream",
     "text": [
      "100%|████████████████████████████| 1/1 [00:19<00:00, 19.58s/it]\n"
     ]
    },
    {
     "name": "stdout",
     "output_type": "stream",
     "text": [
      "46\n",
      "medium revenue <==> high revenue - 0\n"
     ]
    },
    {
     "name": "stderr",
     "output_type": "stream",
     "text": [
      "100%|████████████████████████████| 1/1 [00:00<00:00,  8.27it/s]\n"
     ]
    },
    {
     "name": "stdout",
     "output_type": "stream",
     "text": [
      "47\n",
      "medium revenue <==> high revenue - 0\n"
     ]
    },
    {
     "name": "stderr",
     "output_type": "stream",
     "text": [
      "100%|████████████████████████████| 1/1 [00:00<00:00,  8.68it/s]\n"
     ]
    },
    {
     "name": "stdout",
     "output_type": "stream",
     "text": [
      "48\n",
      "low revenue <==> medium revenue - 2\n"
     ]
    },
    {
     "name": "stderr",
     "output_type": "stream",
     "text": [
      "100%|████████████████████████████| 1/1 [00:00<00:00,  8.22it/s]\n"
     ]
    },
    {
     "name": "stdout",
     "output_type": "stream",
     "text": [
      "49\n",
      "low revenue <==> medium revenue - 2\n"
     ]
    },
    {
     "name": "stderr",
     "output_type": "stream",
     "text": [
      "100%|████████████████████████████| 1/1 [00:00<00:00,  9.35it/s]\n"
     ]
    },
    {
     "name": "stdout",
     "output_type": "stream",
     "text": [
      "50\n",
      "medium revenue <==> high revenue - 0\n"
     ]
    },
    {
     "name": "stderr",
     "output_type": "stream",
     "text": [
      "100%|████████████████████████████| 1/1 [00:00<00:00,  8.33it/s]\n"
     ]
    },
    {
     "name": "stdout",
     "output_type": "stream",
     "text": [
      "51\n",
      "low revenue <==> medium revenue - 2\n"
     ]
    },
    {
     "name": "stderr",
     "output_type": "stream",
     "text": [
      "100%|████████████████████████████| 1/1 [00:00<00:00,  7.29it/s]\n"
     ]
    },
    {
     "name": "stdout",
     "output_type": "stream",
     "text": [
      "52\n",
      "medium revenue <==> high revenue - 0\n"
     ]
    },
    {
     "name": "stderr",
     "output_type": "stream",
     "text": [
      "100%|████████████████████████████| 1/1 [00:00<00:00,  8.62it/s]\n"
     ]
    },
    {
     "name": "stdout",
     "output_type": "stream",
     "text": [
      "53\n",
      "low revenue <==> medium revenue - 2\n"
     ]
    },
    {
     "name": "stderr",
     "output_type": "stream",
     "text": [
      "100%|████████████████████████████| 1/1 [00:00<00:00,  9.52it/s]\n"
     ]
    },
    {
     "name": "stdout",
     "output_type": "stream",
     "text": [
      "54\n",
      "low revenue <==> medium revenue - 2\n"
     ]
    },
    {
     "name": "stderr",
     "output_type": "stream",
     "text": [
      "100%|████████████████████████████| 1/1 [00:00<00:00,  8.51it/s]\n"
     ]
    },
    {
     "name": "stdout",
     "output_type": "stream",
     "text": [
      "55\n",
      "medium revenue <==> high revenue - 0\n"
     ]
    },
    {
     "name": "stderr",
     "output_type": "stream",
     "text": [
      "100%|████████████████████████████| 1/1 [00:00<00:00,  8.62it/s]\n"
     ]
    },
    {
     "name": "stdout",
     "output_type": "stream",
     "text": [
      "56\n",
      "medium revenue <==> high revenue - 0\n"
     ]
    },
    {
     "name": "stderr",
     "output_type": "stream",
     "text": [
      "100%|████████████████████████████| 1/1 [00:24<00:00, 24.73s/it]\n"
     ]
    },
    {
     "name": "stdout",
     "output_type": "stream",
     "text": [
      "57\n",
      "medium revenue <==> high revenue - 0\n"
     ]
    },
    {
     "name": "stderr",
     "output_type": "stream",
     "text": [
      "100%|████████████████████████████| 1/1 [00:00<00:00,  7.64it/s]\n"
     ]
    },
    {
     "name": "stdout",
     "output_type": "stream",
     "text": [
      "58\n",
      "medium revenue <==> high revenue - 0\n"
     ]
    },
    {
     "name": "stderr",
     "output_type": "stream",
     "text": [
      "100%|████████████████████████████| 1/1 [00:22<00:00, 22.23s/it]\n"
     ]
    },
    {
     "name": "stdout",
     "output_type": "stream",
     "text": [
      "59\n",
      "medium revenue <==> high revenue - 0\n"
     ]
    },
    {
     "name": "stderr",
     "output_type": "stream",
     "text": [
      "100%|████████████████████████████| 1/1 [00:18<00:00, 18.69s/it]\n"
     ]
    },
    {
     "name": "stdout",
     "output_type": "stream",
     "text": [
      "60\n",
      "medium revenue <==> high revenue - 0\n"
     ]
    },
    {
     "name": "stderr",
     "output_type": "stream",
     "text": [
      "100%|████████████████████████████| 1/1 [00:00<00:00,  4.41it/s]\n"
     ]
    },
    {
     "name": "stdout",
     "output_type": "stream",
     "text": [
      "61\n",
      "medium revenue <==> high revenue - 0\n"
     ]
    },
    {
     "name": "stderr",
     "output_type": "stream",
     "text": [
      "100%|████████████████████████████| 1/1 [00:00<00:00,  5.15it/s]\n"
     ]
    },
    {
     "name": "stdout",
     "output_type": "stream",
     "text": [
      "62\n",
      "low revenue <==> medium revenue - 2\n"
     ]
    },
    {
     "name": "stderr",
     "output_type": "stream",
     "text": [
      "100%|████████████████████████████| 1/1 [00:00<00:00,  3.83it/s]\n"
     ]
    },
    {
     "name": "stdout",
     "output_type": "stream",
     "text": [
      "63\n",
      "medium revenue <==> high revenue - 0\n"
     ]
    },
    {
     "name": "stderr",
     "output_type": "stream",
     "text": [
      "100%|████████████████████████████| 1/1 [00:00<00:00,  4.57it/s]\n"
     ]
    },
    {
     "name": "stdout",
     "output_type": "stream",
     "text": [
      "64\n",
      "medium revenue <==> high revenue - 0\n"
     ]
    },
    {
     "name": "stderr",
     "output_type": "stream",
     "text": [
      "100%|████████████████████████████| 1/1 [00:00<00:00,  7.40it/s]\n"
     ]
    },
    {
     "name": "stdout",
     "output_type": "stream",
     "text": [
      "65\n",
      "low revenue <==> medium revenue - 2\n"
     ]
    },
    {
     "name": "stderr",
     "output_type": "stream",
     "text": [
      "100%|████████████████████████████| 1/1 [00:00<00:00,  7.19it/s]\n"
     ]
    },
    {
     "name": "stdout",
     "output_type": "stream",
     "text": [
      "66\n",
      "medium revenue <==> high revenue - 0\n"
     ]
    },
    {
     "name": "stderr",
     "output_type": "stream",
     "text": [
      "100%|████████████████████████████| 1/1 [00:00<00:00,  6.89it/s]\n"
     ]
    },
    {
     "name": "stdout",
     "output_type": "stream",
     "text": [
      "67\n",
      "low revenue <==> medium revenue - 2\n"
     ]
    },
    {
     "name": "stderr",
     "output_type": "stream",
     "text": [
      "100%|████████████████████████████| 1/1 [00:00<00:00,  7.52it/s]\n"
     ]
    },
    {
     "name": "stdout",
     "output_type": "stream",
     "text": [
      "68\n",
      "medium revenue <==> high revenue - 0\n"
     ]
    },
    {
     "name": "stderr",
     "output_type": "stream",
     "text": [
      "100%|████████████████████████████| 1/1 [00:00<00:00,  6.99it/s]\n"
     ]
    },
    {
     "name": "stdout",
     "output_type": "stream",
     "text": [
      "69\n",
      "low revenue <==> medium revenue - 2\n"
     ]
    },
    {
     "name": "stderr",
     "output_type": "stream",
     "text": [
      "100%|████████████████████████████| 1/1 [00:18<00:00, 18.79s/it]\n"
     ]
    },
    {
     "name": "stdout",
     "output_type": "stream",
     "text": [
      "70\n",
      "medium revenue <==> high revenue - 0\n"
     ]
    },
    {
     "name": "stderr",
     "output_type": "stream",
     "text": [
      "100%|████████████████████████████| 1/1 [00:00<00:00,  7.52it/s]\n"
     ]
    },
    {
     "name": "stdout",
     "output_type": "stream",
     "text": [
      "71\n",
      "low revenue <==> medium revenue - 2\n"
     ]
    },
    {
     "name": "stderr",
     "output_type": "stream",
     "text": [
      "100%|████████████████████████████| 1/1 [00:00<00:00,  8.00it/s]\n"
     ]
    },
    {
     "name": "stdout",
     "output_type": "stream",
     "text": [
      "72\n",
      "low revenue <==> medium revenue - 2\n"
     ]
    },
    {
     "name": "stderr",
     "output_type": "stream",
     "text": [
      "100%|████████████████████████████| 1/1 [00:00<00:00,  8.13it/s]\n"
     ]
    },
    {
     "name": "stdout",
     "output_type": "stream",
     "text": [
      "73\n",
      "medium revenue <==> high revenue - 0\n"
     ]
    },
    {
     "name": "stderr",
     "output_type": "stream",
     "text": [
      "100%|████████████████████████████| 1/1 [00:19<00:00, 19.26s/it]\n"
     ]
    },
    {
     "name": "stdout",
     "output_type": "stream",
     "text": [
      "74\n",
      "medium revenue <==> high revenue - 0\n"
     ]
    },
    {
     "name": "stderr",
     "output_type": "stream",
     "text": [
      "100%|████████████████████████████| 1/1 [00:00<00:00,  7.88it/s]\n"
     ]
    },
    {
     "name": "stdout",
     "output_type": "stream",
     "text": [
      "75\n",
      "medium revenue <==> high revenue - 0\n"
     ]
    },
    {
     "name": "stderr",
     "output_type": "stream",
     "text": [
      "100%|████████████████████████████| 1/1 [00:00<00:00,  6.95it/s]\n"
     ]
    },
    {
     "name": "stdout",
     "output_type": "stream",
     "text": [
      "76\n",
      "low revenue <==> medium revenue - 2\n"
     ]
    },
    {
     "name": "stderr",
     "output_type": "stream",
     "text": [
      "100%|████████████████████████████| 1/1 [00:18<00:00, 18.50s/it]\n"
     ]
    },
    {
     "name": "stdout",
     "output_type": "stream",
     "text": [
      "77\n",
      "low revenue <==> medium revenue - 2\n"
     ]
    },
    {
     "name": "stderr",
     "output_type": "stream",
     "text": [
      "100%|████████████████████████████| 1/1 [00:00<00:00,  7.41it/s]\n"
     ]
    },
    {
     "name": "stdout",
     "output_type": "stream",
     "text": [
      "78\n",
      "medium revenue <==> high revenue - 0\n"
     ]
    },
    {
     "name": "stderr",
     "output_type": "stream",
     "text": [
      "100%|████████████████████████████| 1/1 [00:00<00:00,  8.69it/s]\n"
     ]
    },
    {
     "name": "stdout",
     "output_type": "stream",
     "text": [
      "79\n",
      "medium revenue <==> high revenue - 0\n"
     ]
    },
    {
     "name": "stderr",
     "output_type": "stream",
     "text": [
      "100%|████████████████████████████| 1/1 [00:00<00:00,  9.00it/s]\n"
     ]
    },
    {
     "name": "stdout",
     "output_type": "stream",
     "text": [
      "80\n",
      "medium revenue <==> high revenue - 0\n"
     ]
    },
    {
     "name": "stderr",
     "output_type": "stream",
     "text": [
      "100%|████████████████████████████| 1/1 [00:00<00:00,  8.00it/s]\n"
     ]
    },
    {
     "name": "stdout",
     "output_type": "stream",
     "text": [
      "81\n",
      "medium revenue <==> high revenue - 0\n"
     ]
    },
    {
     "name": "stderr",
     "output_type": "stream",
     "text": [
      "100%|████████████████████████████| 1/1 [00:19<00:00, 19.61s/it]\n"
     ]
    },
    {
     "name": "stdout",
     "output_type": "stream",
     "text": [
      "82\n",
      "low revenue <==> medium revenue - 2\n"
     ]
    },
    {
     "name": "stderr",
     "output_type": "stream",
     "text": [
      "100%|████████████████████████████| 1/1 [00:00<00:00,  6.67it/s]\n"
     ]
    },
    {
     "name": "stdout",
     "output_type": "stream",
     "text": [
      "83\n",
      "medium revenue <==> high revenue - 0\n"
     ]
    },
    {
     "name": "stderr",
     "output_type": "stream",
     "text": [
      "100%|████████████████████████████| 1/1 [00:00<00:00,  5.01it/s]\n"
     ]
    },
    {
     "name": "stdout",
     "output_type": "stream",
     "text": [
      "84\n",
      "low revenue <==> medium revenue - 2\n"
     ]
    },
    {
     "name": "stderr",
     "output_type": "stream",
     "text": [
      "100%|████████████████████████████| 1/1 [00:00<00:00,  5.52it/s]\n"
     ]
    },
    {
     "name": "stdout",
     "output_type": "stream",
     "text": [
      "85\n",
      "medium revenue <==> high revenue - 0\n"
     ]
    },
    {
     "name": "stderr",
     "output_type": "stream",
     "text": [
      "100%|████████████████████████████| 1/1 [00:00<00:00,  4.91it/s]\n"
     ]
    },
    {
     "name": "stdout",
     "output_type": "stream",
     "text": [
      "86\n",
      "low revenue <==> medium revenue - 2\n"
     ]
    },
    {
     "name": "stderr",
     "output_type": "stream",
     "text": [
      "100%|████████████████████████████| 1/1 [00:00<00:00,  4.82it/s]\n"
     ]
    },
    {
     "name": "stdout",
     "output_type": "stream",
     "text": [
      "87\n",
      "medium revenue <==> high revenue - 0\n"
     ]
    },
    {
     "name": "stderr",
     "output_type": "stream",
     "text": [
      "100%|████████████████████████████| 1/1 [00:00<00:00,  5.10it/s]\n"
     ]
    },
    {
     "name": "stdout",
     "output_type": "stream",
     "text": [
      "88\n",
      "low revenue <==> medium revenue - 2\n"
     ]
    },
    {
     "name": "stderr",
     "output_type": "stream",
     "text": [
      "100%|████████████████████████████| 1/1 [00:00<00:00,  5.37it/s]\n"
     ]
    },
    {
     "name": "stdout",
     "output_type": "stream",
     "text": [
      "89\n",
      "low revenue <==> medium revenue - 2\n"
     ]
    },
    {
     "name": "stderr",
     "output_type": "stream",
     "text": [
      "100%|████████████████████████████| 1/1 [00:00<00:00,  5.98it/s]"
     ]
    },
    {
     "name": "stdout",
     "output_type": "stream",
     "text": [
      "90\n",
      "medium revenue <==> high revenue - 0\n"
     ]
    },
    {
     "name": "stderr",
     "output_type": "stream",
     "text": [
      "\n",
      "100%|████████████████████████████| 1/1 [00:00<00:00,  7.19it/s]\n"
     ]
    },
    {
     "name": "stdout",
     "output_type": "stream",
     "text": [
      "91\n",
      "medium revenue <==> high revenue - 0\n"
     ]
    },
    {
     "name": "stderr",
     "output_type": "stream",
     "text": [
      "100%|████████████████████████████| 1/1 [00:00<00:00,  5.88it/s]\n"
     ]
    },
    {
     "name": "stdout",
     "output_type": "stream",
     "text": [
      "92\n",
      "medium revenue <==> high revenue - 0\n"
     ]
    },
    {
     "name": "stderr",
     "output_type": "stream",
     "text": [
      "100%|████████████████████████████| 1/1 [00:00<00:00,  6.60it/s]\n"
     ]
    },
    {
     "name": "stdout",
     "output_type": "stream",
     "text": [
      "93\n",
      "medium revenue <==> high revenue - 0\n"
     ]
    },
    {
     "name": "stderr",
     "output_type": "stream",
     "text": [
      "100%|████████████████████████████| 1/1 [00:00<00:00,  6.57it/s]\n"
     ]
    },
    {
     "name": "stdout",
     "output_type": "stream",
     "text": [
      "94\n",
      "medium revenue <==> high revenue - 0\n"
     ]
    },
    {
     "name": "stderr",
     "output_type": "stream",
     "text": [
      "100%|████████████████████████████| 1/1 [00:00<00:00,  6.41it/s]\n"
     ]
    },
    {
     "name": "stdout",
     "output_type": "stream",
     "text": [
      "95\n",
      "medium revenue <==> high revenue - 0\n"
     ]
    },
    {
     "name": "stderr",
     "output_type": "stream",
     "text": [
      "100%|████████████████████████████| 1/1 [00:00<00:00,  6.62it/s]\n"
     ]
    },
    {
     "name": "stdout",
     "output_type": "stream",
     "text": [
      "96\n",
      "medium revenue <==> high revenue - 0\n"
     ]
    },
    {
     "name": "stderr",
     "output_type": "stream",
     "text": [
      "100%|████████████████████████████| 1/1 [00:00<00:00,  7.15it/s]\n"
     ]
    },
    {
     "name": "stdout",
     "output_type": "stream",
     "text": [
      "97\n",
      "medium revenue <==> high revenue - 0\n"
     ]
    },
    {
     "name": "stderr",
     "output_type": "stream",
     "text": [
      "100%|████████████████████████████| 1/1 [00:00<00:00,  7.14it/s]\n"
     ]
    },
    {
     "name": "stdout",
     "output_type": "stream",
     "text": [
      "98\n",
      "low revenue <==> medium revenue - 2\n"
     ]
    },
    {
     "name": "stderr",
     "output_type": "stream",
     "text": [
      "100%|████████████████████████████| 1/1 [00:00<00:00,  6.27it/s]\n"
     ]
    },
    {
     "name": "stdout",
     "output_type": "stream",
     "text": [
      "99\n",
      "medium revenue <==> high revenue - 0\n"
     ]
    },
    {
     "name": "stderr",
     "output_type": "stream",
     "text": [
      "100%|████████████████████████████| 1/1 [00:00<00:00,  6.32it/s]"
     ]
    },
    {
     "name": "stdout",
     "output_type": "stream",
     "text": [
      "100\n",
      "medium revenue <==> high revenue - 0\n"
     ]
    },
    {
     "name": "stderr",
     "output_type": "stream",
     "text": [
      "\n",
      "100%|████████████████████████████| 1/1 [00:00<00:00,  6.85it/s]\n"
     ]
    },
    {
     "name": "stdout",
     "output_type": "stream",
     "text": [
      "101\n",
      "low revenue <==> medium revenue - 2\n"
     ]
    },
    {
     "name": "stderr",
     "output_type": "stream",
     "text": [
      "100%|████████████████████████████| 1/1 [00:00<00:00,  5.60it/s]\n"
     ]
    },
    {
     "name": "stdout",
     "output_type": "stream",
     "text": [
      "102\n",
      "low revenue <==> medium revenue - 2\n"
     ]
    },
    {
     "name": "stderr",
     "output_type": "stream",
     "text": [
      "100%|████████████████████████████| 1/1 [00:00<00:00,  5.71it/s]\n"
     ]
    },
    {
     "name": "stdout",
     "output_type": "stream",
     "text": [
      "103\n",
      "medium revenue <==> high revenue - 0\n"
     ]
    },
    {
     "name": "stderr",
     "output_type": "stream",
     "text": [
      "100%|████████████████████████████| 1/1 [00:00<00:00,  6.75it/s]\n"
     ]
    },
    {
     "name": "stdout",
     "output_type": "stream",
     "text": [
      "104\n",
      "low revenue <==> medium revenue - 2\n"
     ]
    },
    {
     "name": "stderr",
     "output_type": "stream",
     "text": [
      "100%|████████████████████████████| 1/1 [00:00<00:00,  6.41it/s]"
     ]
    },
    {
     "name": "stdout",
     "output_type": "stream",
     "text": [
      "105\n",
      "medium revenue <==> high revenue - 0\n"
     ]
    },
    {
     "name": "stderr",
     "output_type": "stream",
     "text": [
      "\n",
      "100%|████████████████████████████| 1/1 [00:00<00:00,  6.75it/s]\n"
     ]
    },
    {
     "name": "stdout",
     "output_type": "stream",
     "text": [
      "106\n",
      "medium revenue <==> high revenue - 0\n"
     ]
    },
    {
     "name": "stderr",
     "output_type": "stream",
     "text": [
      "100%|████████████████████████████| 1/1 [00:00<00:00,  7.52it/s]\n"
     ]
    },
    {
     "name": "stdout",
     "output_type": "stream",
     "text": [
      "107\n",
      "low revenue <==> medium revenue - 2\n"
     ]
    },
    {
     "name": "stderr",
     "output_type": "stream",
     "text": [
      "100%|████████████████████████████| 1/1 [00:18<00:00, 18.97s/it]\n"
     ]
    },
    {
     "name": "stdout",
     "output_type": "stream",
     "text": [
      "108\n",
      "medium revenue <==> high revenue - 0\n"
     ]
    },
    {
     "name": "stderr",
     "output_type": "stream",
     "text": [
      "100%|████████████████████████████| 1/1 [00:00<00:00,  6.07it/s]\n"
     ]
    },
    {
     "name": "stdout",
     "output_type": "stream",
     "text": [
      "109\n",
      "medium revenue <==> high revenue - 0\n"
     ]
    },
    {
     "name": "stderr",
     "output_type": "stream",
     "text": [
      "100%|████████████████████████████| 1/1 [00:00<00:00,  6.84it/s]\n"
     ]
    },
    {
     "name": "stdout",
     "output_type": "stream",
     "text": [
      "110\n",
      "low revenue <==> medium revenue - 2\n"
     ]
    },
    {
     "name": "stderr",
     "output_type": "stream",
     "text": [
      "100%|████████████████████████████| 1/1 [00:00<00:00,  6.94it/s]\n"
     ]
    },
    {
     "name": "stdout",
     "output_type": "stream",
     "text": [
      "111\n",
      "low revenue <==> medium revenue - 2\n"
     ]
    },
    {
     "name": "stderr",
     "output_type": "stream",
     "text": [
      "100%|████████████████████████████| 1/1 [00:00<00:00,  7.57it/s]\n"
     ]
    },
    {
     "name": "stdout",
     "output_type": "stream",
     "text": [
      "112\n",
      "medium revenue <==> high revenue - 0\n"
     ]
    },
    {
     "name": "stderr",
     "output_type": "stream",
     "text": [
      "100%|████████████████████████████| 1/1 [00:00<00:00,  7.14it/s]\n"
     ]
    },
    {
     "name": "stdout",
     "output_type": "stream",
     "text": [
      "113\n",
      "medium revenue <==> high revenue - 0\n"
     ]
    },
    {
     "name": "stderr",
     "output_type": "stream",
     "text": [
      "100%|████████████████████████████| 1/1 [00:00<00:00,  6.58it/s]\n"
     ]
    },
    {
     "name": "stdout",
     "output_type": "stream",
     "text": [
      "114\n",
      "low revenue <==> medium revenue - 2\n"
     ]
    },
    {
     "name": "stderr",
     "output_type": "stream",
     "text": [
      "100%|████████████████████████████| 1/1 [00:00<00:00,  7.24it/s]\n"
     ]
    },
    {
     "name": "stdout",
     "output_type": "stream",
     "text": [
      "115\n",
      "low revenue <==> medium revenue - 2\n"
     ]
    },
    {
     "name": "stderr",
     "output_type": "stream",
     "text": [
      "100%|████████████████████████████| 1/1 [00:00<00:00,  6.90it/s]\n"
     ]
    },
    {
     "name": "stdout",
     "output_type": "stream",
     "text": [
      "116\n",
      "medium revenue <==> high revenue - 0\n"
     ]
    },
    {
     "name": "stderr",
     "output_type": "stream",
     "text": [
      "100%|████████████████████████████| 1/1 [00:00<00:00,  7.05it/s]\n"
     ]
    },
    {
     "name": "stdout",
     "output_type": "stream",
     "text": [
      "117\n",
      "medium revenue <==> high revenue - 0\n"
     ]
    },
    {
     "name": "stderr",
     "output_type": "stream",
     "text": [
      "100%|████████████████████████████| 1/1 [00:00<00:00,  7.41it/s]\n"
     ]
    },
    {
     "name": "stdout",
     "output_type": "stream",
     "text": [
      "118\n",
      "low revenue <==> medium revenue - 2\n"
     ]
    },
    {
     "name": "stderr",
     "output_type": "stream",
     "text": [
      "100%|████████████████████████████| 1/1 [00:24<00:00, 24.88s/it]\n"
     ]
    },
    {
     "name": "stdout",
     "output_type": "stream",
     "text": [
      "119\n",
      "medium revenue <==> high revenue - 0\n"
     ]
    },
    {
     "name": "stderr",
     "output_type": "stream",
     "text": [
      "100%|████████████████████████████| 1/1 [00:00<00:00,  6.33it/s]\n"
     ]
    },
    {
     "name": "stdout",
     "output_type": "stream",
     "text": [
      "120\n",
      "medium revenue <==> high revenue - 0\n"
     ]
    },
    {
     "name": "stderr",
     "output_type": "stream",
     "text": [
      "100%|████████████████████████████| 1/1 [00:00<00:00,  7.19it/s]\n"
     ]
    },
    {
     "name": "stdout",
     "output_type": "stream",
     "text": [
      "121\n",
      "medium revenue <==> high revenue - 0\n"
     ]
    },
    {
     "name": "stderr",
     "output_type": "stream",
     "text": [
      "100%|████████████████████████████| 1/1 [00:00<00:00,  7.59it/s]\n"
     ]
    },
    {
     "name": "stdout",
     "output_type": "stream",
     "text": [
      "122\n",
      "medium revenue <==> high revenue - 0\n"
     ]
    },
    {
     "name": "stderr",
     "output_type": "stream",
     "text": [
      "100%|████████████████████████████| 1/1 [00:00<00:00,  8.74it/s]\n"
     ]
    },
    {
     "name": "stdout",
     "output_type": "stream",
     "text": [
      "123\n",
      "low revenue <==> medium revenue - 2\n"
     ]
    },
    {
     "name": "stderr",
     "output_type": "stream",
     "text": [
      "100%|████████████████████████████| 1/1 [00:00<00:00,  8.62it/s]\n"
     ]
    },
    {
     "name": "stdout",
     "output_type": "stream",
     "text": [
      "124\n",
      "low revenue <==> medium revenue - 2\n"
     ]
    },
    {
     "name": "stderr",
     "output_type": "stream",
     "text": [
      "100%|████████████████████████████| 1/1 [00:00<00:00,  8.40it/s]\n"
     ]
    },
    {
     "name": "stdout",
     "output_type": "stream",
     "text": [
      "125\n",
      "medium revenue <==> high revenue - 0\n"
     ]
    },
    {
     "name": "stderr",
     "output_type": "stream",
     "text": [
      "100%|████████████████████████████| 1/1 [00:00<00:00,  6.36it/s]\n"
     ]
    },
    {
     "name": "stdout",
     "output_type": "stream",
     "text": [
      "126\n",
      "medium revenue <==> high revenue - 0\n"
     ]
    },
    {
     "name": "stderr",
     "output_type": "stream",
     "text": [
      "100%|████████████████████████████| 1/1 [00:00<00:00,  6.57it/s]\n"
     ]
    },
    {
     "name": "stdout",
     "output_type": "stream",
     "text": [
      "127\n",
      "medium revenue <==> high revenue - 0\n"
     ]
    },
    {
     "name": "stderr",
     "output_type": "stream",
     "text": [
      "100%|████████████████████████████| 1/1 [00:00<00:00,  8.43it/s]\n"
     ]
    },
    {
     "name": "stdout",
     "output_type": "stream",
     "text": [
      "128\n",
      "medium revenue <==> high revenue - 0\n"
     ]
    },
    {
     "name": "stderr",
     "output_type": "stream",
     "text": [
      "100%|████████████████████████████| 1/1 [00:00<00:00,  7.74it/s]\n"
     ]
    },
    {
     "name": "stdout",
     "output_type": "stream",
     "text": [
      "129\n",
      "low revenue <==> medium revenue - 2\n"
     ]
    },
    {
     "name": "stderr",
     "output_type": "stream",
     "text": [
      "100%|████████████████████████████| 1/1 [00:00<00:00,  8.11it/s]\n"
     ]
    },
    {
     "name": "stdout",
     "output_type": "stream",
     "text": [
      "130\n",
      "medium revenue <==> high revenue - 0\n"
     ]
    },
    {
     "name": "stderr",
     "output_type": "stream",
     "text": [
      "100%|████████████████████████████| 1/1 [00:00<00:00,  8.40it/s]\n"
     ]
    },
    {
     "name": "stdout",
     "output_type": "stream",
     "text": [
      "131\n",
      "low revenue <==> medium revenue - 2\n"
     ]
    },
    {
     "name": "stderr",
     "output_type": "stream",
     "text": [
      "100%|████████████████████████████| 1/1 [00:00<00:00,  8.26it/s]\n"
     ]
    },
    {
     "name": "stdout",
     "output_type": "stream",
     "text": [
      "132\n",
      "low revenue <==> medium revenue - 2\n"
     ]
    },
    {
     "name": "stderr",
     "output_type": "stream",
     "text": [
      "100%|████████████████████████████| 1/1 [00:00<00:00,  6.32it/s]\n"
     ]
    },
    {
     "name": "stdout",
     "output_type": "stream",
     "text": [
      "133\n",
      "low revenue <==> medium revenue - 2\n"
     ]
    },
    {
     "name": "stderr",
     "output_type": "stream",
     "text": [
      "100%|████████████████████████████| 1/1 [00:28<00:00, 28.66s/it]\n"
     ]
    },
    {
     "name": "stdout",
     "output_type": "stream",
     "text": [
      "134\n",
      "medium revenue <==> high revenue - 0\n"
     ]
    },
    {
     "name": "stderr",
     "output_type": "stream",
     "text": [
      "100%|████████████████████████████| 1/1 [00:00<00:00,  3.85it/s]\n"
     ]
    },
    {
     "name": "stdout",
     "output_type": "stream",
     "text": [
      "135\n",
      "medium revenue <==> high revenue - 0\n"
     ]
    },
    {
     "name": "stderr",
     "output_type": "stream",
     "text": [
      "100%|████████████████████████████| 1/1 [00:22<00:00, 22.94s/it]\n"
     ]
    },
    {
     "name": "stdout",
     "output_type": "stream",
     "text": [
      "136\n",
      "medium revenue <==> high revenue - 0\n"
     ]
    },
    {
     "name": "stderr",
     "output_type": "stream",
     "text": [
      "100%|████████████████████████████| 1/1 [00:00<00:00,  7.25it/s]\n"
     ]
    },
    {
     "name": "stdout",
     "output_type": "stream",
     "text": [
      "137\n",
      "low revenue <==> medium revenue - 2\n"
     ]
    },
    {
     "name": "stderr",
     "output_type": "stream",
     "text": [
      "100%|████████████████████████████| 1/1 [00:24<00:00, 24.48s/it]\n"
     ]
    },
    {
     "name": "stdout",
     "output_type": "stream",
     "text": [
      "138\n",
      "medium revenue <==> high revenue - 0\n"
     ]
    },
    {
     "name": "stderr",
     "output_type": "stream",
     "text": [
      "100%|████████████████████████████| 1/1 [00:00<00:00,  5.46it/s]\n"
     ]
    },
    {
     "name": "stdout",
     "output_type": "stream",
     "text": [
      "139\n",
      "medium revenue <==> high revenue - 0\n"
     ]
    },
    {
     "name": "stderr",
     "output_type": "stream",
     "text": [
      "100%|████████████████████████████| 1/1 [00:00<00:00,  5.88it/s]"
     ]
    },
    {
     "name": "stdout",
     "output_type": "stream",
     "text": [
      "140\n",
      "low revenue "
     ]
    },
    {
     "name": "stderr",
     "output_type": "stream",
     "text": [
      "\n"
     ]
    },
    {
     "name": "stdout",
     "output_type": "stream",
     "text": [
      "<==> medium revenue - 2\n"
     ]
    },
    {
     "name": "stderr",
     "output_type": "stream",
     "text": [
      "100%|████████████████████████████| 1/1 [00:00<00:00,  6.28it/s]\n"
     ]
    },
    {
     "name": "stdout",
     "output_type": "stream",
     "text": [
      "141\n",
      "medium revenue <==> high revenue - 0\n"
     ]
    },
    {
     "name": "stderr",
     "output_type": "stream",
     "text": [
      "100%|████████████████████████████| 1/1 [00:00<00:00,  6.21it/s]\n"
     ]
    },
    {
     "name": "stdout",
     "output_type": "stream",
     "text": [
      "142\n",
      "low revenue <==> medium revenue - 2\n"
     ]
    },
    {
     "name": "stderr",
     "output_type": "stream",
     "text": [
      "100%|████████████████████████████| 1/1 [00:23<00:00, 23.03s/it]\n"
     ]
    },
    {
     "name": "stdout",
     "output_type": "stream",
     "text": [
      "143\n",
      "medium revenue <==> high revenue - 0\n"
     ]
    },
    {
     "name": "stderr",
     "output_type": "stream",
     "text": [
      "100%|████████████████████████████| 1/1 [00:00<00:00,  5.49it/s]\n"
     ]
    },
    {
     "name": "stdout",
     "output_type": "stream",
     "text": [
      "144\n",
      "medium revenue <==> high revenue - 0\n"
     ]
    },
    {
     "name": "stderr",
     "output_type": "stream",
     "text": [
      "100%|████████████████████████████| 1/1 [00:00<00:00,  5.92it/s]\n"
     ]
    },
    {
     "name": "stdout",
     "output_type": "stream",
     "text": [
      "145\n",
      "low revenue <==> medium revenue - 2\n"
     ]
    },
    {
     "name": "stderr",
     "output_type": "stream",
     "text": [
      "100%|████████████████████████████| 1/1 [00:00<00:00,  5.90it/s]\n"
     ]
    },
    {
     "name": "stdout",
     "output_type": "stream",
     "text": [
      "146\n",
      "low revenue <==> medium revenue - 2\n"
     ]
    },
    {
     "name": "stderr",
     "output_type": "stream",
     "text": [
      "100%|████████████████████████████| 1/1 [00:00<00:00,  6.33it/s]\n"
     ]
    },
    {
     "name": "stdout",
     "output_type": "stream",
     "text": [
      "147\n",
      "medium revenue <==> high revenue - 0\n"
     ]
    },
    {
     "name": "stderr",
     "output_type": "stream",
     "text": [
      "100%|████████████████████████████| 1/1 [00:47<00:00, 47.53s/it]\n"
     ]
    },
    {
     "name": "stdout",
     "output_type": "stream",
     "text": [
      "148\n",
      "low revenue <==> medium revenue - 2\n"
     ]
    },
    {
     "name": "stderr",
     "output_type": "stream",
     "text": [
      "100%|████████████████████████████| 1/1 [00:00<00:00,  7.80it/s]\n"
     ]
    },
    {
     "name": "stdout",
     "output_type": "stream",
     "text": [
      "149\n",
      "medium revenue <==> high revenue - 0\n"
     ]
    },
    {
     "name": "stderr",
     "output_type": "stream",
     "text": [
      "100%|████████████████████████████| 1/1 [00:00<00:00,  8.68it/s]\n"
     ]
    },
    {
     "name": "stdout",
     "output_type": "stream",
     "text": [
      "150\n",
      "medium revenue <==> high revenue - 0\n"
     ]
    },
    {
     "name": "stderr",
     "output_type": "stream",
     "text": [
      "100%|████████████████████████████| 1/1 [00:00<00:00,  7.69it/s]\n"
     ]
    },
    {
     "name": "stdout",
     "output_type": "stream",
     "text": [
      "151\n",
      "medium revenue <==> high revenue - 0\n"
     ]
    },
    {
     "name": "stderr",
     "output_type": "stream",
     "text": [
      "100%|████████████████████████████| 1/1 [00:00<00:00,  7.35it/s]\n"
     ]
    },
    {
     "name": "stdout",
     "output_type": "stream",
     "text": [
      "152\n",
      "medium revenue <==> high revenue - 0\n"
     ]
    },
    {
     "name": "stderr",
     "output_type": "stream",
     "text": [
      "100%|████████████████████████████| 1/1 [00:00<00:00,  7.81it/s]\n"
     ]
    },
    {
     "name": "stdout",
     "output_type": "stream",
     "text": [
      "153\n",
      "medium revenue <==> high revenue - 0\n"
     ]
    },
    {
     "name": "stderr",
     "output_type": "stream",
     "text": [
      "100%|████████████████████████████| 1/1 [00:18<00:00, 18.53s/it]\n"
     ]
    }
   ],
   "source": [
    "clf_dict={'high revenue':0,\n",
    "          'low revenue':1,\n",
    "          'medium revenue':2}\n",
    "\n",
    "features_vary=['Number_of_Customers', 'Menu_Price', 'Marketing_Spend', 'Average_Customer_Spending', 'Reviews',\n",
    "               'revenue_per_customer', 'relative_menu_price', 'reviews_to_revenue_ratio']\n",
    "\n",
    "dice_df=pd.DataFrame()\n",
    "\n",
    "for idx in range(len(dc_data)):\n",
    "    \n",
    "    buffer_df=pd.DataFrame()\n",
    "    query_instance = dc_data.iloc[idx]\n",
    "    current_class = query_instance['clf-revenue']\n",
    "    print(idx)\n",
    "    \n",
    "    if current_class == 'low revenue':\n",
    "        desired_class='medium revenue'\n",
    "        print(current_class, '<==>', desired_class, '-', clf_dict[desired_class])\n",
    "        cf=exp.generate_counterfactuals(pd.DataFrame(dc_data.drop(columns=['clf-revenue']).iloc[idx]).T, \n",
    "                                        total_CFs=3, \n",
    "                                        desired_class=clf_dict[desired_class],\n",
    "                                        features_to_vary=features_vary)\n",
    "        buffer_df=pd.concat([buffer_df, json_pandas(cf)], ignore_index=True)\n",
    "        \n",
    "    else:\n",
    "        desired_class='high revenue'\n",
    "        print(current_class, '<==>', desired_class, '-', clf_dict[desired_class])\n",
    "        cf=exp.generate_counterfactuals(pd.DataFrame(dc_data.drop(columns=['clf-revenue']).iloc[idx]).T, \n",
    "                                        total_CFs=3, \n",
    "                                        desired_class=clf_dict[desired_class],\n",
    "                                        features_to_vary=features_vary)\n",
    "        buffer_df=pd.concat([buffer_df, json_pandas(cf)], ignore_index=True)\n",
    "    \n",
    "    dice_df=pd.concat([dice_df, buffer_df], ignore_index=True)"
   ]
  },
  {
   "cell_type": "code",
   "execution_count": 41,
   "id": "1b251942",
   "metadata": {},
   "outputs": [
    {
     "data": {
      "text/html": [
       "<div>\n",
       "<style scoped>\n",
       "    .dataframe tbody tr th:only-of-type {\n",
       "        vertical-align: middle;\n",
       "    }\n",
       "\n",
       "    .dataframe tbody tr th {\n",
       "        vertical-align: top;\n",
       "    }\n",
       "\n",
       "    .dataframe thead th {\n",
       "        text-align: right;\n",
       "    }\n",
       "</style>\n",
       "<table border=\"1\" class=\"dataframe\">\n",
       "  <thead>\n",
       "    <tr style=\"text-align: right;\">\n",
       "      <th></th>\n",
       "      <th>original-scenario</th>\n",
       "      <th>scenario-0</th>\n",
       "      <th>scenario-1</th>\n",
       "      <th>scenario-2</th>\n",
       "      <th>feature_names_including_target</th>\n",
       "    </tr>\n",
       "  </thead>\n",
       "  <tbody>\n",
       "    <tr>\n",
       "      <th>0</th>\n",
       "      <td>[45.0, 46.47344207763672, 4.404506206512451, 3...</td>\n",
       "      <td>[75.0, 46.47344139839645, 4.404506027546303, 1...</td>\n",
       "      <td>[45.0, 46.47344139839645, 4.404506027546303, 3...</td>\n",
       "      <td>[45.0, 46.47344139839645, 4.404506027546303, 3...</td>\n",
       "      <td>[Number_of_Customers, Menu_Price, Marketing_Sp...</td>\n",
       "    </tr>\n",
       "  </tbody>\n",
       "</table>\n",
       "</div>"
      ],
      "text/plain": [
       "                                   original-scenario  \\\n",
       "0  [45.0, 46.47344207763672, 4.404506206512451, 3...   \n",
       "\n",
       "                                          scenario-0  \\\n",
       "0  [75.0, 46.47344139839645, 4.404506027546303, 1...   \n",
       "\n",
       "                                          scenario-1  \\\n",
       "0  [45.0, 46.47344139839645, 4.404506027546303, 3...   \n",
       "\n",
       "                                          scenario-2  \\\n",
       "0  [45.0, 46.47344139839645, 4.404506027546303, 3...   \n",
       "\n",
       "                      feature_names_including_target  \n",
       "0  [Number_of_Customers, Menu_Price, Marketing_Sp...  "
      ]
     },
     "execution_count": 41,
     "metadata": {},
     "output_type": "execute_result"
    }
   ],
   "source": [
    "org_data=pd.DataFrame(dice_df.explode('test_data')['test_data'].to_list(), \n",
    "                      columns=['original-scenario'])\n",
    "\n",
    "scenario_data=pd.DataFrame(dice_df.explode('cfs_list')['cfs_list'].to_list(), \n",
    "                           columns=['scenario-0', 'scenario-1', 'scenario-2'])\n",
    "\n",
    "scenarios=pd.concat([org_data, scenario_data, dice_df['feature_names_including_target']], axis=1)\n",
    "\n",
    "scenarios.to_excel('output/scenarios.xlsx', index=False)\n",
    "scenarios.head(1)"
   ]
  },
  {
   "cell_type": "code",
   "execution_count": 47,
   "id": "898300fe",
   "metadata": {},
   "outputs": [
    {
     "data": {
      "text/html": [
       "<div>\n",
       "<style scoped>\n",
       "    .dataframe tbody tr th:only-of-type {\n",
       "        vertical-align: middle;\n",
       "    }\n",
       "\n",
       "    .dataframe tbody tr th {\n",
       "        vertical-align: top;\n",
       "    }\n",
       "\n",
       "    .dataframe thead th {\n",
       "        text-align: right;\n",
       "    }\n",
       "</style>\n",
       "<table border=\"1\" class=\"dataframe\">\n",
       "  <thead>\n",
       "    <tr style=\"text-align: right;\">\n",
       "      <th></th>\n",
       "      <th>original-scenario</th>\n",
       "      <th>scenario-0</th>\n",
       "      <th>scenario-1</th>\n",
       "      <th>scenario-2</th>\n",
       "      <th>feature_names_including_target</th>\n",
       "    </tr>\n",
       "  </thead>\n",
       "  <tbody>\n",
       "    <tr>\n",
       "      <th>153</th>\n",
       "      <td>[71.0, 13.092843055725098, 19.41499900817871, ...</td>\n",
       "      <td>[88.0, 13.09284261955149, 19.4149991534134, 10...</td>\n",
       "      <td>[71.0, 13.09284261955149, 19.4149991534134, 11...</td>\n",
       "      <td>[71.0, 13.09284261955149, 19.4149991534134, 10...</td>\n",
       "      <td>[Number_of_Customers, Menu_Price, Marketing_Sp...</td>\n",
       "    </tr>\n",
       "  </tbody>\n",
       "</table>\n",
       "</div>"
      ],
      "text/plain": [
       "                                     original-scenario  \\\n",
       "153  [71.0, 13.092843055725098, 19.41499900817871, ...   \n",
       "\n",
       "                                            scenario-0  \\\n",
       "153  [88.0, 13.09284261955149, 19.4149991534134, 10...   \n",
       "\n",
       "                                            scenario-1  \\\n",
       "153  [71.0, 13.09284261955149, 19.4149991534134, 11...   \n",
       "\n",
       "                                            scenario-2  \\\n",
       "153  [71.0, 13.09284261955149, 19.4149991534134, 10...   \n",
       "\n",
       "                        feature_names_including_target  \n",
       "153  [Number_of_Customers, Menu_Price, Marketing_Sp...  "
      ]
     },
     "execution_count": 47,
     "metadata": {},
     "output_type": "execute_result"
    }
   ],
   "source": [
    "scenarios.tail(1)"
   ]
  },
  {
   "cell_type": "code",
   "execution_count": 42,
   "id": "9c0e29f5",
   "metadata": {},
   "outputs": [],
   "source": [
    "def add_suffix(df, suffix):\n",
    "    return df.rename(columns=lambda col_name: f\"{col_name}-{suffix}\")"
   ]
  },
  {
   "cell_type": "code",
   "execution_count": 44,
   "id": "bf4ddac7",
   "metadata": {},
   "outputs": [],
   "source": [
    "final_original=pd.DataFrame()\n",
    "\n",
    "for idx in range(len(scenarios)):\n",
    "    \n",
    "    buffer_original=pd.DataFrame()\n",
    "    \n",
    "    buffer_original=pd.DataFrame(scenarios['original-scenario'].iloc[idx]).T\n",
    "    buffer_original.columns=scenarios['feature_names_including_target'].iloc[idx]\n",
    "    \n",
    "    final_original=pd.concat([final_original, buffer_original], ignore_index=True)    \n",
    "    \n",
    "# write into excel file\n",
    "final_original.to_excel(f'output/original.xlsx', index=False)"
   ]
  },
  {
   "cell_type": "code",
   "execution_count": 46,
   "id": "48d58e04",
   "metadata": {},
   "outputs": [],
   "source": [
    "scenario_list=['scenario-0', 'scenario-1', 'scenario-2']\n",
    "\n",
    "for sc in scenario_list:\n",
    "        \n",
    "    final_scenario=pd.DataFrame()\n",
    "    \n",
    "    for idx in range(len(scenarios)):\n",
    "        \n",
    "        buffer_scenario=pd.DataFrame()\n",
    "        \n",
    "        # get the df with the cf's in columns\n",
    "        buffer_scenario=pd.DataFrame(scenarios[sc].iloc[idx]).T\n",
    "        \n",
    "        # set the column name\n",
    "        buffer_scenario.columns=scenarios['feature_names_including_target'].iloc[idx]\n",
    "        \n",
    "        # append each scenario into a df\n",
    "        final_scenario=pd.concat([final_scenario, buffer_scenario], ignore_index=True)\n",
    "        \n",
    "    # add a suffix\n",
    "    final_scenario=add_suffix(final_scenario, '--dice')\n",
    "                        \n",
    "    # write into excel file\n",
    "    final_scenario.to_excel(f'output/{sc}.xlsx', index=False)"
   ]
  }
 ],
 "metadata": {
  "kernelspec": {
   "display_name": "Python 3 (ipykernel)",
   "language": "python",
   "name": "python3"
  },
  "language_info": {
   "codemirror_mode": {
    "name": "ipython",
    "version": 3
   },
   "file_extension": ".py",
   "mimetype": "text/x-python",
   "name": "python",
   "nbconvert_exporter": "python",
   "pygments_lexer": "ipython3",
   "version": "3.9.6"
  }
 },
 "nbformat": 4,
 "nbformat_minor": 5
}
