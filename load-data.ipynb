{
 "cells": [
  {
   "cell_type": "markdown",
   "id": "bd3a9fd3",
   "metadata": {},
   "source": [
    "*packages*"
   ]
  },
  {
   "cell_type": "code",
   "execution_count": null,
   "id": "5b94646d",
   "metadata": {},
   "outputs": [],
   "source": [
    "# general\n",
    "\n",
    "import psycopg2\n",
    "import pandas as pd\n",
    "from sqlalchemy import create_engine\n",
    "import os, yaml, requests\n",
    "\n",
    "# warnings\n",
    "import warnings\n",
    "warnings.filterwarnings(\"ignore\")"
   ]
  },
  {
   "cell_type": "markdown",
   "id": "0120fc33",
   "metadata": {},
   "source": [
    "*load data*"
   ]
  },
  {
   "cell_type": "code",
   "execution_count": null,
   "id": "9463fadb",
   "metadata": {},
   "outputs": [],
   "source": [
    "path = r'C:\\Users\\migue\\Documents\\datasets_kaggle\\revenue_restaurants\\data.csv'\n",
    "df = pd.read_csv(path, low_memory=False)\n",
    "df.head(1)"
   ]
  },
  {
   "cell_type": "markdown",
   "id": "e27bea9f",
   "metadata": {},
   "source": [
    "*db connection*"
   ]
  },
  {
   "cell_type": "code",
   "execution_count": null,
   "id": "b5e0373a",
   "metadata": {},
   "outputs": [],
   "source": [
    "# postgresql key\n",
    "usr = \"postgres\"\n",
    "pwd = \"V3lazco_1989\"\n",
    "db =  \"kaggle_data\"\n",
    "port = \"5432\"\n",
    "\n",
    "# create the engine for the postgresql object\n",
    "engine = create_engine(\"postgresql://\" + usr + \":\" + pwd + \"@localhost:5432/\" + db)"
   ]
  },
  {
   "cell_type": "markdown",
   "id": "1d80ac60",
   "metadata": {},
   "source": [
    "*load data*"
   ]
  },
  {
   "cell_type": "code",
   "execution_count": null,
   "id": "6abf7621",
   "metadata": {},
   "outputs": [],
   "source": [
    "df.to_sql('data', \n",
    "          con = engine, \n",
    "          if_exists = 'replace', \n",
    "          index = False, \n",
    "          schema = 'revenue_forecast')"
   ]
  },
  {
   "cell_type": "markdown",
   "id": "4993dd52",
   "metadata": {},
   "source": [
    "`load clusters`"
   ]
  },
  {
   "cell_type": "code",
   "execution_count": 1,
   "id": "a6788207",
   "metadata": {},
   "outputs": [
    {
     "name": "stderr",
     "output_type": "stream",
     "text": [
      "c:\\users\\migue\\appdata\\local\\programs\\python\\python39\\lib\\site-packages\\requests\\__init__.py:102: RequestsDependencyWarning: urllib3 (1.26.6) or chardet (5.2.0)/charset_normalizer (2.0.4) doesn't match a supported version!\n",
      "  warnings.warn(\"urllib3 ({}) or chardet ({})/charset_normalizer ({}) doesn't match a supported \"\n"
     ]
    }
   ],
   "source": [
    "# general\n",
    "\n",
    "import psycopg2\n",
    "import pandas as pd\n",
    "from sqlalchemy import create_engine\n",
    "import os, yaml, requests\n",
    "\n",
    "# warnings\n",
    "import warnings\n",
    "warnings.filterwarnings(\"ignore\")"
   ]
  },
  {
   "cell_type": "markdown",
   "id": "605bd2d9",
   "metadata": {},
   "source": [
    "*load data*"
   ]
  },
  {
   "cell_type": "code",
   "execution_count": 2,
   "id": "0976d235",
   "metadata": {},
   "outputs": [
    {
     "data": {
      "text/html": [
       "<div>\n",
       "<style scoped>\n",
       "    .dataframe tbody tr th:only-of-type {\n",
       "        vertical-align: middle;\n",
       "    }\n",
       "\n",
       "    .dataframe tbody tr th {\n",
       "        vertical-align: top;\n",
       "    }\n",
       "\n",
       "    .dataframe thead th {\n",
       "        text-align: right;\n",
       "    }\n",
       "</style>\n",
       "<table border=\"1\" class=\"dataframe\">\n",
       "  <thead>\n",
       "    <tr style=\"text-align: right;\">\n",
       "      <th></th>\n",
       "      <th>Number_of_Customers</th>\n",
       "      <th>Menu_Price</th>\n",
       "      <th>Marketing_Spend</th>\n",
       "      <th>Average_Customer_Spending</th>\n",
       "      <th>Promotions</th>\n",
       "      <th>Reviews</th>\n",
       "      <th>Monthly_Revenue</th>\n",
       "      <th>cuisine_encode</th>\n",
       "      <th>marketing_spend_per_customer</th>\n",
       "      <th>revenue_per_customer</th>\n",
       "      <th>reviews_to_revenue_ratio</th>\n",
       "      <th>marketing_efficiency</th>\n",
       "      <th>relative_menu_price</th>\n",
       "      <th>cluster</th>\n",
       "      <th>Cuisine_Type</th>\n",
       "      <th>client-type</th>\n",
       "    </tr>\n",
       "  </thead>\n",
       "  <tbody>\n",
       "    <tr>\n",
       "      <th>0</th>\n",
       "      <td>61</td>\n",
       "      <td>43.117635</td>\n",
       "      <td>12.663793</td>\n",
       "      <td>36.236133</td>\n",
       "      <td>0</td>\n",
       "      <td>45</td>\n",
       "      <td>350.91204</td>\n",
       "      <td>2</td>\n",
       "      <td>0.207603</td>\n",
       "      <td>5.752656</td>\n",
       "      <td>7.798045</td>\n",
       "      <td>27.70987</td>\n",
       "      <td>0.840402</td>\n",
       "      <td>2</td>\n",
       "      <td>Japanese</td>\n",
       "      <td>economic</td>\n",
       "    </tr>\n",
       "  </tbody>\n",
       "</table>\n",
       "</div>"
      ],
      "text/plain": [
       "   Number_of_Customers  Menu_Price  Marketing_Spend  \\\n",
       "0                   61   43.117635        12.663793   \n",
       "\n",
       "   Average_Customer_Spending  Promotions  Reviews  Monthly_Revenue  \\\n",
       "0                  36.236133           0       45        350.91204   \n",
       "\n",
       "   cuisine_encode  marketing_spend_per_customer  revenue_per_customer  \\\n",
       "0               2                      0.207603              5.752656   \n",
       "\n",
       "   reviews_to_revenue_ratio  marketing_efficiency  relative_menu_price  \\\n",
       "0                  7.798045              27.70987             0.840402   \n",
       "\n",
       "   cluster Cuisine_Type client-type  \n",
       "0        2     Japanese    economic  "
      ]
     },
     "execution_count": 2,
     "metadata": {},
     "output_type": "execute_result"
    }
   ],
   "source": [
    "path = r'output\\clusters.xlsx'\n",
    "df = pd.read_excel(path)\n",
    "df.head(1)"
   ]
  },
  {
   "cell_type": "markdown",
   "id": "9139591b",
   "metadata": {},
   "source": [
    "*db connection*"
   ]
  },
  {
   "cell_type": "code",
   "execution_count": 3,
   "id": "aba32dfe",
   "metadata": {},
   "outputs": [],
   "source": [
    "# postgresql key\n",
    "usr = \"postgres\"\n",
    "pwd = \"V3lazco_1989\"\n",
    "db =  \"kaggle_data\"\n",
    "port = \"5432\"\n",
    "\n",
    "# create the engine for the postgresql object\n",
    "engine = create_engine(\"postgresql://\" + usr + \":\" + pwd + \"@localhost:5432/\" + db)"
   ]
  },
  {
   "cell_type": "markdown",
   "id": "d9a421d1",
   "metadata": {},
   "source": [
    "*load data*"
   ]
  },
  {
   "cell_type": "code",
   "execution_count": 4,
   "id": "f6aaafdf",
   "metadata": {},
   "outputs": [
    {
     "data": {
      "text/plain": [
       "1000"
      ]
     },
     "execution_count": 4,
     "metadata": {},
     "output_type": "execute_result"
    }
   ],
   "source": [
    "df.to_sql('clusters', \n",
    "          con = engine, \n",
    "          if_exists = 'replace', \n",
    "          index = False, \n",
    "          schema = 'revenue_forecast')"
   ]
  }
 ],
 "metadata": {
  "kernelspec": {
   "display_name": "Python 3 (ipykernel)",
   "language": "python",
   "name": "python3"
  },
  "language_info": {
   "codemirror_mode": {
    "name": "ipython",
    "version": 3
   },
   "file_extension": ".py",
   "mimetype": "text/x-python",
   "name": "python",
   "nbconvert_exporter": "python",
   "pygments_lexer": "ipython3",
   "version": "3.9.6"
  }
 },
 "nbformat": 4,
 "nbformat_minor": 5
}
